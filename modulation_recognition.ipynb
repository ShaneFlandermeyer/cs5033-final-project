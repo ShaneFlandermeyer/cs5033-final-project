{
 "cells": [
  {
   "cell_type": "code",
   "execution_count": 25,
   "metadata": {},
   "outputs": [],
   "source": [
    "import numpy as np\n",
    "import matplotlib.pyplot as plt\n",
    "import sigmf\n",
    "from sigmf import sigmffile, SigMFFile"
   ]
  },
  {
   "cell_type": "markdown",
   "metadata": {},
   "source": [
    "## Load the dataset"
   ]
  },
  {
   "cell_type": "code",
   "execution_count": 26,
   "metadata": {},
   "outputs": [],
   "source": [
    "filename = 'data/dataset'\n",
    "sigFile = sigmffile.fromfile(filename,skip_checksum=True)\n",
    "annotations = sigFile.get_annotations()\n",
    "nSignals = len(annotations)\n",
    "# TODO: For now, I'm assuming all the data has the same length\n",
    "nSamps = int(sigFile.sample_count/nSignals)\n",
    "# The input data is a tensor with shape nSignals x 2 x nSamps\n",
    "x = np.zeros((nSignals,2,nSamps))\n",
    "for iSignal,annotation in enumerate(annotations):\n",
    "  # Start index of the current signal\n",
    "  annotationStart = annotation[SigMFFile.START_INDEX_KEY]\n",
    "  # Length of the current signal in samples\n",
    "  annotationLength = annotation[SigMFFile.LENGTH_INDEX_KEY]\n",
    "  # Data for the current signal\n",
    "  samples = sigFile.read_samples(annotationStart,annotationLength)\n",
    "  # Store the signal data in the input tensor\n",
    "  # Note: Since the data is complex, we need to split it into real and imaginary\n",
    "  # parts because neural networks have trouble handling complex data\n",
    "  x[iSignal,0,:] = np.real(samples)\n",
    "  x[iSignal,1,:] = np.imag(samples)\n",
    "  \n"
   ]
  },
  {
   "cell_type": "markdown",
   "metadata": {},
   "source": [
    "## Partition the data into training and testing sets"
   ]
  },
  {
   "cell_type": "code",
   "execution_count": 28,
   "metadata": {},
   "outputs": [],
   "source": [
    "np.random.seed(0)\n",
    "nTrain = int(0.5*nSignals)\n",
    "nTest = nSignals - nTrain\n",
    "# Since the input data is heavily structured, we need to shuffle the data to\n",
    "# form the training and testing sets\n",
    "trainIndex = np.random.permutation(range(0,nSignals))[0:nTrain]\n",
    "# The test set is the complement of the training set\n",
    "testIndex = list(set(range(0,nSignals)) - set(trainIndex))\n",
    "xTrain = x[trainIndex,:,:]\n",
    "xTest = x[testIndex,:,:]\n"
   ]
  },
  {
   "cell_type": "markdown",
   "metadata": {},
   "source": [
    "## Convert the class labels to one-hot vectors"
   ]
  },
  {
   "cell_type": "code",
   "execution_count": null,
   "metadata": {},
   "outputs": [],
   "source": [
    "# TODO: Implement me!"
   ]
  }
 ],
 "metadata": {
  "interpreter": {
   "hash": "0e10ce5ca030b7316f5da6479fec2bbf42d51c34ff7bcc046cdce9c0a3e6e4c8"
  },
  "kernelspec": {
   "display_name": "Python 3.8.10 64-bit ('cs5033-final-project-8TZ9n3iP': venv)",
   "name": "python3"
  },
  "language_info": {
   "codemirror_mode": {
    "name": "ipython",
    "version": 3
   },
   "file_extension": ".py",
   "mimetype": "text/x-python",
   "name": "python",
   "nbconvert_exporter": "python",
   "pygments_lexer": "ipython3",
   "version": "3.8.10"
  },
  "orig_nbformat": 4
 },
 "nbformat": 4,
 "nbformat_minor": 2
}
