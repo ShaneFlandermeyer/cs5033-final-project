{
 "cells": [
  {
   "cell_type": "code",
   "execution_count": 12,
   "metadata": {},
   "outputs": [],
   "source": [
    "import numpy as np\n",
    "import matplotlib.pyplot as plt\n",
    "import sigmf\n",
    "from sigmf import sigmffile, SigMFFile"
   ]
  },
  {
   "cell_type": "markdown",
   "metadata": {},
   "source": [
    "## Load the dataset"
   ]
  },
  {
   "cell_type": "code",
   "execution_count": 13,
   "metadata": {},
   "outputs": [
    {
     "name": "stdout",
     "output_type": "stream",
     "text": [
      "(2000, 2, 128)\n",
      "(2000, 2, 128)\n"
     ]
    }
   ],
   "source": [
    "filename = 'data/dataset'\n",
    "sigFile = sigmffile.fromfile(filename,skip_checksum=True)\n",
    "annotations = sigFile.get_annotations()\n",
    "nSignals = len(annotations)\n",
    "# TODO: For now, I'm assuming all the data has the same length\n",
    "nSamps = int(sigFile.sample_count/nSignals)\n",
    "# The input data is a tensor with shape nSignals x 2 x nSamps\n",
    "signals = np.zeros((nSignals,2,nSamps))\n",
    "for iSignal,annotation in enumerate(annotations):\n",
    "  # Start index of the current signal\n",
    "  annotationStart = annotation[SigMFFile.START_INDEX_KEY]\n",
    "  # Length of the current signal in samples\n",
    "  annotationLength = annotation[SigMFFile.LENGTH_INDEX_KEY]\n",
    "  # Data for the current signal\n",
    "  samples = sigFile.read_samples(annotationStart,annotationLength)\n",
    "  # Store the signal data in the input tensor\n",
    "  # Note: Since the data is complex, we need to split it into real and imaginary\n",
    "  # parts because neural networks have trouble handling complex data\n",
    "  signals[iSignal,0,:] = np.real(samples)\n",
    "  signals[iSignal,1,:] = np.imag(samples)\n",
    "  \n"
   ]
  }
 ],
 "metadata": {
  "interpreter": {
   "hash": "0e10ce5ca030b7316f5da6479fec2bbf42d51c34ff7bcc046cdce9c0a3e6e4c8"
  },
  "kernelspec": {
   "display_name": "Python 3.8.10 64-bit ('cs5033-final-project-8TZ9n3iP': venv)",
   "name": "python3"
  },
  "language_info": {
   "codemirror_mode": {
    "name": "ipython",
    "version": 3
   },
   "file_extension": ".py",
   "mimetype": "text/x-python",
   "name": "python",
   "nbconvert_exporter": "python",
   "pygments_lexer": "ipython3",
   "version": "3.8.10"
  },
  "orig_nbformat": 4
 },
 "nbformat": 4,
 "nbformat_minor": 2
}
