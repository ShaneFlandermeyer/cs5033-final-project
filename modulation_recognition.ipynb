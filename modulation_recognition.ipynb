{
 "cells": [
  {
   "cell_type": "code",
   "execution_count": 1,
   "metadata": {},
   "outputs": [],
   "source": [
    "import numpy as np\n",
    "import matplotlib.pyplot as plt\n",
    "import sigmf\n",
    "from sigmf import sigmffile, SigMFFile\n",
    "# import tensorflow as tf\n",
    "# print(\"Num GPUs Available: \", len(tf.config.list_physical_devices('GPU')))"
   ]
  },
  {
   "cell_type": "markdown",
   "metadata": {},
   "source": [
    "## Load the dataset\n"
   ]
  },
  {
   "cell_type": "code",
   "execution_count": 2,
   "metadata": {},
   "outputs": [],
   "source": [
    "filename = 'data/dataset'\n",
    "sigFile = sigmffile.fromfile(filename, skip_checksum=True)\n",
    "annotations = sigFile.get_annotations()\n",
    "nSignals = len(annotations)\n",
    "# TODO: For now, I'm assuming all the data has the same length\n",
    "nSamps = int(sigFile.sample_count/nSignals)\n",
    "# The input data is a tensor with shape nSignals x 2 x nSamps\n",
    "x = np.zeros((nSignals, 2, nSamps))\n",
    "labels = np.array(['']*nSignals, dtype=object)\n",
    "for iSignal, annotation in enumerate(annotations):\n",
    "    # Label of the current signal\n",
    "    labels[iSignal] = annotation[SigMFFile.LABEL_KEY]\n",
    "    # Start index of the current signal\n",
    "    annotationStart = annotation[SigMFFile.START_INDEX_KEY]\n",
    "    # Length of the current signal in samples\n",
    "    annotationLength = annotation[SigMFFile.LENGTH_INDEX_KEY]\n",
    "    # Data for the current signal\n",
    "    samples = sigFile.read_samples(annotationStart, annotationLength)\n",
    "    # Store the signal data in the input tensor\n",
    "    # Note: Since the data is complex, we need to split it into real and imaginary\n",
    "    # parts because neural networks have trouble handling complex data\n",
    "    x[iSignal, 0, :] = np.real(samples)\n",
    "    x[iSignal, 1, :] = np.imag(samples)\n",
    "# Number of unique signal classes\n",
    "classes = np.unique(labels)\n"
   ]
  },
  {
   "cell_type": "markdown",
   "metadata": {},
   "source": [
    "## Partition the data into training and testing sets\n"
   ]
  },
  {
   "cell_type": "code",
   "execution_count": 3,
   "metadata": {},
   "outputs": [
    {
     "name": "stdout",
     "output_type": "stream",
     "text": [
      "(10000, 2, 128)\n"
     ]
    }
   ],
   "source": [
    "np.random.seed(0)\n",
    "nTrain = int(0.5*nSignals)\n",
    "nTest = nSignals - nTrain\n",
    "# Since the input data is heavily structured, we need to shuffle the data to\n",
    "# form the training and testing sets\n",
    "trainIndex = np.random.permutation(range(0, nSignals))[0:nTrain]\n",
    "# The test set is the complement of the training set\n",
    "testIndex = list(set(range(0, nSignals)) - set(trainIndex))\n",
    "# Generate the train/test examples/labels\n",
    "xTrain = x[trainIndex, :, :]\n",
    "xTest = x[testIndex, :, :]\n",
    "labelTrain = labels[trainIndex]\n",
    "labelTest = labels[testIndex]\n",
    "inputShape = list(xTrain.shape[1:])\n",
    "print(xTrain.shape)"
   ]
  },
  {
   "cell_type": "markdown",
   "metadata": {},
   "source": [
    "## Convert the class labels to one-hot vectors\n"
   ]
  },
  {
   "cell_type": "code",
   "execution_count": 4,
   "metadata": {},
   "outputs": [],
   "source": [
    "def onehot(array):\n",
    "  \"\"\"\n",
    "  Convert a list of labels to onehot representation\n",
    "  \"\"\"\n",
    "  # Get the array of unique labels and the indices of the unique array that can\n",
    "  # be used to reconstruct array\n",
    "  unique, inverse = np.unique(array,return_inverse=True)\n",
    "  # Each row of this identity matrix is the one-hot representation of each label\n",
    "  # in unique, so we can get the one-hot encoding by choosing the corresponding\n",
    "  # row for each index in inverse\n",
    "  oh = np.eye(unique.shape[0])[inverse]\n",
    "  return oh\n",
    "yTrain = onehot(labelTrain)\n",
    "yTest = onehot(labelTest)"
   ]
  },
  {
   "cell_type": "markdown",
   "metadata": {},
   "source": [
    "## Try with the pickle file"
   ]
  },
  {
   "cell_type": "code",
   "execution_count": 5,
   "metadata": {},
   "outputs": [
    {
     "name": "stdout",
     "output_type": "stream",
     "text": [
      "(110000, 2, 128) [2, 128]\n"
     ]
    }
   ],
   "source": [
    "# import pickle\n",
    "# Xd = pickle.load(open('data/RML2016.10a_dict.pkl','rb'),encoding='latin')\n",
    "# # Get the unique SNR values and labels from the dictionary above\n",
    "# snrs,mods = map(lambda j: sorted(list(set(map(lambda x: x[j], Xd.keys())))), [1,0])\n",
    "# X = []\n",
    "# lbl = []\n",
    "# for mod in mods:\n",
    "#   for snr in snrs:\n",
    "#     X.append(Xd[mod,snr])\n",
    "#     for i in range(Xd[(mod,snr)].shape[0]):\n",
    "#       lbl.append((mod,snr))\n",
    "# X = np.vstack(X)\n",
    "# np.random.seed(2016)\n",
    "# n_examples = X.shape[0]\n",
    "# n_train = int(n_examples * 0.5)\n",
    "# train_idx = np.random.choice(range(0,n_examples), size=n_train, replace=False)\n",
    "# test_idx = list(set(range(0,n_examples))-set(train_idx))\n",
    "# xTrain = X[train_idx]\n",
    "# xTest =  X[test_idx]\n",
    "# def to_onehot(yy):\n",
    "#     yy = list(yy)\n",
    "#     yy1 = np.zeros([len(yy), max(yy)+1])\n",
    "#     yy1[np.arange(len(yy)),yy] = 1\n",
    "#     return yy1\n",
    "# yTrain = to_onehot(map(lambda x: mods.index(lbl[x][0]), train_idx))\n",
    "# yTest = to_onehot(map(lambda x: mods.index(lbl[x][0]), test_idx))\n",
    "# in_shp = list(xTrain.shape[1:])\n",
    "# print(xTrain.shape, in_shp)\n",
    "# classes = mods"
   ]
  },
  {
   "cell_type": "markdown",
   "metadata": {},
   "source": [
    "## Build the model using Tensorflow\n"
   ]
  },
  {
   "cell_type": "code",
   "execution_count": 6,
   "metadata": {},
   "outputs": [
    {
     "name": "stdout",
     "output_type": "stream",
     "text": [
      "Num GPUs Available:  1\n",
      "Model: \"sequential\"\n",
      "_________________________________________________________________\n",
      " Layer (type)                Output Shape              Param #   \n",
      "=================================================================\n",
      " reshape (Reshape)           (None, 2, 128, 1)         0         \n",
      "                                                                 \n",
      " zero_padding2d (ZeroPadding  (None, 2, 132, 1)        0         \n",
      " 2D)                                                             \n",
      "                                                                 \n",
      " conv1 (Conv2D)              (None, 2, 130, 256)       1024      \n",
      "                                                                 \n",
      " dropout (Dropout)           (None, 2, 130, 256)       0         \n",
      "                                                                 \n",
      " zero_padding2d_1 (ZeroPaddi  (None, 2, 134, 256)      0         \n",
      " ng2D)                                                           \n",
      "                                                                 \n",
      " conv2 (Conv2D)              (None, 1, 132, 80)        122960    \n",
      "                                                                 \n",
      " dropout_1 (Dropout)         (None, 1, 132, 80)        0         \n",
      "                                                                 \n",
      " flatten (Flatten)           (None, 10560)             0         \n",
      "                                                                 \n",
      " dense1 (Dense)              (None, 256)               2703616   \n",
      "                                                                 \n",
      " dropout_2 (Dropout)         (None, 256)               0         \n",
      "                                                                 \n",
      " dense2 (Dense)              (None, 11)                2827      \n",
      "                                                                 \n",
      " activation (Activation)     (None, 11)                0         \n",
      "                                                                 \n",
      " reshape_1 (Reshape)         (None, 11)                0         \n",
      "                                                                 \n",
      "=================================================================\n",
      "Total params: 2,830,427\n",
      "Trainable params: 2,830,427\n",
      "Non-trainable params: 0\n",
      "_________________________________________________________________\n"
     ]
    },
    {
     "name": "stderr",
     "output_type": "stream",
     "text": [
      "2021-11-07 11:16:33.637566: I tensorflow/core/platform/cpu_feature_guard.cc:151] This TensorFlow binary is optimized with oneAPI Deep Neural Network Library (oneDNN) to use the following CPU instructions in performance-critical operations:  AVX2 AVX512F FMA\n",
      "To enable them in other operations, rebuild TensorFlow with the appropriate compiler flags.\n",
      "2021-11-07 11:16:34.454099: I tensorflow/core/common_runtime/gpu/gpu_device.cc:1525] Created device /job:localhost/replica:0/task:0/device:GPU:0 with 14069 MB memory:  -> device: 0, name: Quadro RTX 5000, pci bus id: 0000:65:00.0, compute capability: 7.5\n"
     ]
    }
   ],
   "source": [
    "# CNN imports\n",
    "# TODO: Move these to the top of the file\n",
    "import numpy as np\n",
    "import os\n",
    "import tensorflow as tf\n",
    "from tensorflow.keras.layers import Reshape, ZeroPadding2D, Conv2D, Dropout, Flatten, Dense, Activation\n",
    "from tensorflow.keras import Sequential\n",
    "print(\"Num GPUs Available: \", len(tf.config.list_physical_devices('GPU')))\n",
    "# Build the model\n",
    "#   - Reshape the [N,2,128] input to [N,1,2,128]\n",
    "dropoutRate = 0.5\n",
    "model = Sequential()\n",
    "model.add(Reshape(in_shp+[1],\n",
    "                  input_shape=in_shp))\n",
    "model.add(ZeroPadding2D((2,0),\n",
    "                        data_format='channels_first'))\n",
    "model.add(Conv2D(256, (1, 3),\n",
    "                 activation='relu',\n",
    "                 padding='valid',\n",
    "                 name='conv1'))\n",
    "model.add(Dropout(dropoutRate))\n",
    "model.add(ZeroPadding2D((0, 2)))\n",
    "model.add(Conv2D(80, (2, 3),\n",
    "                 padding='valid',\n",
    "                 activation='relu',\n",
    "                 name='conv2'))\n",
    "model.add(Dropout(dropoutRate))\n",
    "model.add(Flatten())\n",
    "model.add(Dense(256,\n",
    "                activation='relu', kernel_initializer='he_normal', name='dense1'))\n",
    "model.add(Dropout(dropoutRate))\n",
    "model.add(Dense(len(classes),\n",
    "                kernel_initializer='he_normal', name='dense2'))\n",
    "model.add(Activation('softmax'))\n",
    "model.add(Reshape([len(classes)]))\n",
    "model.compile(loss='categorical_crossentropy', optimizer='Adam')\n",
    "model.summary()"
   ]
  },
  {
   "cell_type": "markdown",
   "metadata": {},
   "source": [
    "## Train the model"
   ]
  },
  {
   "cell_type": "code",
   "execution_count": 7,
   "metadata": {},
   "outputs": [
    {
     "name": "stdout",
     "output_type": "stream",
     "text": [
      "Epoch 1/100\n"
     ]
    },
    {
     "name": "stderr",
     "output_type": "stream",
     "text": [
      "2021-11-07 11:16:35.963923: I tensorflow/stream_executor/cuda/cuda_dnn.cc:366] Loaded cuDNN version 8300\n",
      "2021-11-07 11:16:37.100443: W tensorflow/stream_executor/gpu/asm_compiler.cc:111] *** WARNING *** You are using ptxas 11.0.194, which is older than 11.1. ptxas before 11.1 is known to miscompile XLA code, leading to incorrect results or invalid-address errors.\n",
      "\n",
      "You may not need to update to CUDA 11.1; cherry-picking the ptxas binary is often sufficient.\n"
     ]
    },
    {
     "name": "stdout",
     "output_type": "stream",
     "text": [
      "108/108 - 12s - loss: 2.2504 - val_loss: 2.1382 - 12s/epoch - 108ms/step\n",
      "Epoch 2/100\n",
      "108/108 - 8s - loss: 1.9936 - val_loss: 1.8707 - 8s/epoch - 74ms/step\n",
      "Epoch 3/100\n",
      "108/108 - 8s - loss: 1.8470 - val_loss: 1.7618 - 8s/epoch - 73ms/step\n",
      "Epoch 4/100\n",
      "108/108 - 8s - loss: 1.7642 - val_loss: 1.6606 - 8s/epoch - 74ms/step\n",
      "Epoch 5/100\n",
      "108/108 - 8s - loss: 1.6892 - val_loss: 1.5924 - 8s/epoch - 75ms/step\n",
      "Epoch 6/100\n",
      "108/108 - 8s - loss: 1.6230 - val_loss: 1.4961 - 8s/epoch - 74ms/step\n",
      "Epoch 7/100\n",
      "108/108 - 8s - loss: 1.5495 - val_loss: 1.4534 - 8s/epoch - 73ms/step\n",
      "Epoch 8/100\n",
      "108/108 - 8s - loss: 1.5061 - val_loss: 1.3881 - 8s/epoch - 74ms/step\n",
      "Epoch 9/100\n",
      "108/108 - 8s - loss: 1.4720 - val_loss: 1.3852 - 8s/epoch - 73ms/step\n",
      "Epoch 10/100\n",
      "108/108 - 8s - loss: 1.4549 - val_loss: 1.3481 - 8s/epoch - 74ms/step\n",
      "Epoch 11/100\n",
      "108/108 - 8s - loss: 1.4344 - val_loss: 1.3492 - 8s/epoch - 71ms/step\n",
      "Epoch 12/100\n",
      "108/108 - 8s - loss: 1.4214 - val_loss: 1.3264 - 8s/epoch - 72ms/step\n",
      "Epoch 13/100\n",
      "108/108 - 8s - loss: 1.4109 - val_loss: 1.3450 - 8s/epoch - 72ms/step\n",
      "Epoch 14/100\n",
      "108/108 - 8s - loss: 1.4063 - val_loss: 1.3178 - 8s/epoch - 73ms/step\n",
      "Epoch 15/100\n",
      "108/108 - 8s - loss: 1.3991 - val_loss: 1.3199 - 8s/epoch - 70ms/step\n",
      "Epoch 16/100\n",
      "108/108 - 8s - loss: 1.3918 - val_loss: 1.3011 - 8s/epoch - 72ms/step\n",
      "Epoch 17/100\n",
      "108/108 - 8s - loss: 1.3824 - val_loss: 1.3255 - 8s/epoch - 70ms/step\n",
      "Epoch 18/100\n",
      "108/108 - 8s - loss: 1.3748 - val_loss: 1.2973 - 8s/epoch - 70ms/step\n",
      "Epoch 19/100\n",
      "108/108 - 8s - loss: 1.3734 - val_loss: 1.3018 - 8s/epoch - 71ms/step\n",
      "Epoch 20/100\n",
      "108/108 - 8s - loss: 1.3676 - val_loss: 1.3149 - 8s/epoch - 72ms/step\n",
      "Epoch 21/100\n",
      "108/108 - 8s - loss: 1.3647 - val_loss: 1.3086 - 8s/epoch - 69ms/step\n",
      "Epoch 22/100\n",
      "108/108 - 8s - loss: 1.3588 - val_loss: 1.2911 - 8s/epoch - 75ms/step\n",
      "Epoch 23/100\n",
      "108/108 - 8s - loss: 1.3536 - val_loss: 1.2852 - 8s/epoch - 77ms/step\n",
      "Epoch 24/100\n",
      "108/108 - 8s - loss: 1.3502 - val_loss: 1.2827 - 8s/epoch - 76ms/step\n",
      "Epoch 25/100\n",
      "108/108 - 8s - loss: 1.3474 - val_loss: 1.2913 - 8s/epoch - 76ms/step\n",
      "Epoch 26/100\n",
      "108/108 - 8s - loss: 1.3422 - val_loss: 1.3004 - 8s/epoch - 76ms/step\n",
      "Epoch 27/100\n",
      "108/108 - 8s - loss: 1.3404 - val_loss: 1.2879 - 8s/epoch - 75ms/step\n",
      "Epoch 28/100\n",
      "108/108 - 8s - loss: 1.3337 - val_loss: 1.2926 - 8s/epoch - 76ms/step\n",
      "Epoch 29/100\n",
      "108/108 - 8s - loss: 1.3357 - val_loss: 1.2891 - 8s/epoch - 72ms/step\n"
     ]
    }
   ],
   "source": [
    "nEpochs = 100\n",
    "batchSize = 1024\n",
    "history = model.fit(xTrain,yTrain,\n",
    "                    batch_size=batchSize,\n",
    "                    epochs=nEpochs,\n",
    "                    validation_data=(xTest,yTest),\n",
    "                    verbose=2,\n",
    "                    callbacks = [\n",
    "                      tf.keras.callbacks.EarlyStopping(monitor='val_loss', patience=5, verbose=0, mode='auto'),\n",
    "                    ])"
   ]
  },
  {
   "cell_type": "code",
   "execution_count": 13,
   "metadata": {},
   "outputs": [
    {
     "name": "stdout",
     "output_type": "stream",
     "text": [
      "1.2890750169754028\n"
     ]
    },
    {
     "data": {
      "image/png": "[encoded data removed]",
      "text/plain": [
       "<Figure size 432x288 with 1 Axes>"
      ]
     },
     "metadata": {
      "needs_background": "light"
     },
     "output_type": "display_data"
    },
    {
     "data": {
      "image/png": "[encoded data removed]",
      "text/plain": [
       "<Figure size 432x288 with 2 Axes>"
      ]
     },
     "metadata": {
      "needs_background": "light"
     },
     "output_type": "display_data"
    }
   ],
   "source": [
    "score = model.evaluate(xTest,yTest,verbose=0,batch_size=batchSize)\n",
    "print(score)\n",
    "# Show loss curves \n",
    "plt.figure()\n",
    "plt.title('Training performance')\n",
    "plt.plot(history.epoch, history.history['loss'], label='train loss+error')\n",
    "plt.plot(history.epoch, history.history['val_loss'], label='val_error')\n",
    "plt.legend()\n",
    "plt.show()\n",
    "\n",
    "def plot_confusion_matrix(cm, title='Confusion matrix', cmap=plt.cm.Blues, labels=[]):\n",
    "    plt.imshow(cm, interpolation='nearest', cmap=cmap)\n",
    "    plt.title(title)\n",
    "    plt.colorbar()\n",
    "    tick_marks = np.arange(len(labels))\n",
    "    plt.xticks(tick_marks, labels, rotation=45)\n",
    "    plt.yticks(tick_marks, labels)\n",
    "    plt.tight_layout()\n",
    "    plt.ylabel('True label')\n",
    "    plt.xlabel('Predicted label')\n",
    "\n",
    "\n",
    "# Plot confusion matrix\n",
    "test_Y_hat = model.predict(xTest, batch_size=batchSize)\n",
    "conf = np.zeros([len(classes),len(classes)])\n",
    "confnorm = np.zeros([len(classes),len(classes)])\n",
    "for i in range(0,xTest.shape[0]):\n",
    "    j = list(yTest[i,:]).index(1)\n",
    "    k = int(np.argmax(test_Y_hat[i,:]))\n",
    "    conf[j,k] = conf[j,k] + 1\n",
    "for i in range(0,len(classes)):\n",
    "    confnorm[i,:] = conf[i,:] / np.sum(conf[i,:])\n",
    "plot_confusion_matrix(confnorm, labels=classes)"
   ]
  }
 ],
 "metadata": {
  "interpreter": {
   "hash": "0e10ce5ca030b7316f5da6479fec2bbf42d51c34ff7bcc046cdce9c0a3e6e4c8"
  },
  "kernelspec": {
   "display_name": "Python 3.8.10 64-bit ('cs5033-final-project-8TZ9n3iP': venv)",
   "name": "python3"
  },
  "language_info": {
   "codemirror_mode": {
    "name": "ipython",
    "version": 3
   },
   "file_extension": ".py",
   "mimetype": "text/x-python",
   "name": "python",
   "nbconvert_exporter": "python",
   "pygments_lexer": "ipython3",
   "version": "3.8.10"
  },
  "orig_nbformat": 4
 },
 "nbformat": 4,
 "nbformat_minor": 2
}
