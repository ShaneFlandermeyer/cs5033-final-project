{
 "cells": [
  {
   "cell_type": "code",
   "execution_count": 10,
   "metadata": {},
   "outputs": [],
   "source": [
    "import numpy as np\n",
    "import matplotlib.pyplot as plt\n",
    "import sigmf\n",
    "from sigmf import sigmffile, SigMFFile"
   ]
  },
  {
   "cell_type": "markdown",
   "metadata": {},
   "source": [
    "## Load the dataset"
   ]
  },
  {
   "cell_type": "code",
   "execution_count": 11,
   "metadata": {},
   "outputs": [
    {
     "name": "stdout",
     "output_type": "stream",
     "text": [
      "(2000, 2, 120)\n"
     ]
    },
    {
     "ename": "ValueError",
     "evalue": "could not broadcast input array from shape (120,) into shape (2000,)",
     "output_type": "error",
     "traceback": [
      "\u001b[0;31m---------------------------------------------------------------------------\u001b[0m",
      "\u001b[0;31mValueError\u001b[0m                                Traceback (most recent call last)",
      "\u001b[0;32m/tmp/ipykernel_212809/2774637063.py\u001b[0m in \u001b[0;36m<module>\u001b[0;34m\u001b[0m\n\u001b[1;32m     16\u001b[0m   \u001b[0msamples\u001b[0m \u001b[0;34m=\u001b[0m \u001b[0msigFile\u001b[0m\u001b[0;34m.\u001b[0m\u001b[0mread_samples\u001b[0m\u001b[0;34m(\u001b[0m\u001b[0mannotationStart\u001b[0m\u001b[0;34m,\u001b[0m\u001b[0mannotationLength\u001b[0m\u001b[0;34m)\u001b[0m\u001b[0;34m\u001b[0m\u001b[0;34m\u001b[0m\u001b[0m\n\u001b[1;32m     17\u001b[0m   \u001b[0;31m# Store the signal data in the input tensor\u001b[0m\u001b[0;34m\u001b[0m\u001b[0;34m\u001b[0m\u001b[0;34m\u001b[0m\u001b[0m\n\u001b[0;32m---> 18\u001b[0;31m   \u001b[0msignals\u001b[0m\u001b[0;34m[\u001b[0m\u001b[0;34m:\u001b[0m\u001b[0;34m,\u001b[0m\u001b[0;36m0\u001b[0m\u001b[0;34m,\u001b[0m\u001b[0miSignal\u001b[0m\u001b[0;34m]\u001b[0m \u001b[0;34m=\u001b[0m \u001b[0mnp\u001b[0m\u001b[0;34m.\u001b[0m\u001b[0mreal\u001b[0m\u001b[0;34m(\u001b[0m\u001b[0msamples\u001b[0m\u001b[0;34m)\u001b[0m\u001b[0;34m\u001b[0m\u001b[0;34m\u001b[0m\u001b[0m\n\u001b[0m\u001b[1;32m     19\u001b[0m   \u001b[0msignals\u001b[0m\u001b[0;34m[\u001b[0m\u001b[0;34m:\u001b[0m\u001b[0;34m,\u001b[0m\u001b[0;36m1\u001b[0m\u001b[0;34m,\u001b[0m\u001b[0miSignal\u001b[0m\u001b[0;34m]\u001b[0m \u001b[0;34m=\u001b[0m \u001b[0mnp\u001b[0m\u001b[0;34m.\u001b[0m\u001b[0mimag\u001b[0m\u001b[0;34m(\u001b[0m\u001b[0msamples\u001b[0m\u001b[0;34m)\u001b[0m\u001b[0;34m\u001b[0m\u001b[0;34m\u001b[0m\u001b[0m\n\u001b[1;32m     20\u001b[0m \u001b[0mprint\u001b[0m\u001b[0;34m(\u001b[0m\u001b[0msignals\u001b[0m\u001b[0;34m.\u001b[0m\u001b[0mshape\u001b[0m\u001b[0;34m)\u001b[0m\u001b[0;34m\u001b[0m\u001b[0;34m\u001b[0m\u001b[0m\n",
      "\u001b[0;31mValueError\u001b[0m: could not broadcast input array from shape (120,) into shape (2000,)"
     ]
    }
   ],
   "source": [
    "filename = 'data/dataset'\n",
    "sigFile = sigmffile.fromfile(filename,skip_checksum=True)\n",
    "annotations = sigFile.get_annotations()\n",
    "nSignals = len(annotations)\n",
    "# TODO: For now, I'm assuming all the data has the same length\n",
    "nSamps = int(sigFile.sample_count/nSignals)\n",
    "# The input data is a tensor with shape nSignals x 2 x nSamps\n",
    "signals = np.zeros((nSignals,2,nSamps))\n",
    "print(signals.shape)\n",
    "for iSignal,annotation in enumerate(annotations):\n",
    "  # Start index of the current signal\n",
    "  annotationStart = annotation[SigMFFile.START_INDEX_KEY]\n",
    "  # Length of the current signal in samples\n",
    "  annotationLength = annotation[SigMFFile.LENGTH_INDEX_KEY]\n",
    "  # Data for the current signal\n",
    "  samples = sigFile.read_samples(annotationStart,annotationLength)\n",
    "  # Store the signal data in the input tensor\n",
    "  signals[:,0,iSignal] = np.real(samples)\n",
    "  signals[:,1,iSignal] = np.imag(samples)\n",
    "print(signals.shape)\n",
    "  \n"
   ]
  }
 ],
 "metadata": {
  "interpreter": {
   "hash": "0e10ce5ca030b7316f5da6479fec2bbf42d51c34ff7bcc046cdce9c0a3e6e4c8"
  },
  "kernelspec": {
   "display_name": "Python 3.8.10 64-bit ('cs5033-final-project-8TZ9n3iP': venv)",
   "name": "python3"
  },
  "language_info": {
   "codemirror_mode": {
    "name": "ipython",
    "version": 3
   },
   "file_extension": ".py",
   "mimetype": "text/x-python",
   "name": "python",
   "nbconvert_exporter": "python",
   "pygments_lexer": "ipython3",
   "version": "3.8.10"
  },
  "orig_nbformat": 4
 },
 "nbformat": 4,
 "nbformat_minor": 2
}
