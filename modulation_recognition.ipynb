{
 "cells": [
  {
   "cell_type": "code",
   "execution_count": 8,
   "metadata": {},
   "outputs": [],
   "source": [
    "import numpy as np\n",
    "import matplotlib.pyplot as plt\n",
    "import sigmf\n",
    "from sigmf import sigmffile, SigMFFile\n",
    "# import tensorflow as tf\n",
    "# print(\"Num GPUs Available: \", len(tf.config.list_physical_devices('GPU')))"
   ]
  },
  {
   "cell_type": "markdown",
   "metadata": {},
   "source": [
    "## Load the dataset\n"
   ]
  },
  {
   "cell_type": "code",
   "execution_count": 9,
   "metadata": {},
   "outputs": [
    {
     "name": "stderr",
     "output_type": "stream",
     "text": [
      "/home/shane/.local/share/virtualenvs/cs5033-final-project-sO7u1n24/lib/python3.8/site-packages/matplotlib/cbook/__init__.py:1333: ComplexWarning: Casting complex values to real discards the imaginary part\n",
      "  return np.asarray(x, float)\n"
     ]
    },
    {
     "data": {
      "image/png": "[encoded data removed]",
      "text/plain": [
       "<Figure size 432x288 with 1 Axes>"
      ]
     },
     "metadata": {
      "needs_background": "light"
     },
     "output_type": "display_data"
    }
   ],
   "source": [
    "filename = 'data/dataset'\n",
    "sigFile = sigmffile.fromfile(filename, skip_checksum=True)\n",
    "annotations = sigFile.get_annotations()\n",
    "nSignals = len(annotations)\n",
    "nSamps = int(sigFile.sample_count/nSignals)\n",
    "# The input data is a tensor with shape nSignals x 2 x nSamps\n",
    "x = np.zeros((nSignals, 2, nSamps))\n",
    "labels = np.array(['']*nSignals, dtype=object)\n",
    "plt.plot(sigFile.read_samples())\n",
    "for iSignal, annotation in enumerate(annotations):\n",
    "    # Label of the current signal\n",
    "    labels[iSignal] = annotation[SigMFFile.LABEL_KEY]\n",
    "    # Start index of the current signal\n",
    "    annotationStart = annotation[SigMFFile.START_INDEX_KEY]\n",
    "    # Length of the current signal in samples\n",
    "    annotationLength = annotation[SigMFFile.LENGTH_INDEX_KEY]\n",
    "    # Data for the current signal\n",
    "    samples = sigFile.read_samples(annotationStart, annotationLength)\n",
    "    # Store the signal data in the input tensor\n",
    "    # Note: Since the data is complex, we need to split it into real and imaginary\n",
    "    # parts because neural networks have trouble handling complex data\n",
    "    x[iSignal, 0, :] = np.real(samples)\n",
    "    x[iSignal, 1, :] = np.imag(samples)\n",
    "# Number of unique signal classes\n",
    "classes = np.unique(labels)\n"
   ]
  },
  {
   "cell_type": "markdown",
   "metadata": {},
   "source": [
    "## Partition the data into training and testing sets\n"
   ]
  },
  {
   "cell_type": "code",
   "execution_count": 10,
   "metadata": {},
   "outputs": [
    {
     "name": "stdout",
     "output_type": "stream",
     "text": [
      "(2000, 2, 128)\n"
     ]
    }
   ],
   "source": [
    "np.random.seed(0)\n",
    "nTrain = int(0.5*nSignals)\n",
    "nTest = nSignals - nTrain\n",
    "# Since the input data is heavily structured, we need to shuffle the data to\n",
    "# form the training and testing sets\n",
    "trainIndex = np.random.permutation(range(0, nSignals))[0:nTrain]\n",
    "# The test set is the complement of the training set\n",
    "testIndex = list(set(range(0, nSignals)) - set(trainIndex))\n",
    "# Generate the train/test examples/labels\n",
    "xTrain = x[trainIndex, :, :]\n",
    "xTest = x[testIndex, :, :]\n",
    "labelTrain = labels[trainIndex]\n",
    "labelTest = labels[testIndex]\n",
    "inputShape = list(xTrain.shape[1:])\n",
    "print(xTrain.shape)"
   ]
  },
  {
   "cell_type": "markdown",
   "metadata": {},
   "source": [
    "## Convert the class labels to one-hot vectors\n"
   ]
  },
  {
   "cell_type": "code",
   "execution_count": 11,
   "metadata": {},
   "outputs": [],
   "source": [
    "def onehot(array):\n",
    "  \"\"\"\n",
    "  Convert a list of labels to onehot representation\n",
    "  \"\"\"\n",
    "  # Get the array of unique labels and the indices of the unique array that can\n",
    "  # be used to reconstruct array\n",
    "  unique, inverse = np.unique(array,return_inverse=True)\n",
    "  # Each row of this identity matrix is the one-hot representation of each label\n",
    "  # in unique, so we can get the one-hot encoding by choosing the corresponding\n",
    "  # row for each index in inverse\n",
    "  oneHot = np.eye(unique.shape[0])[inverse]\n",
    "  return oneHot\n",
    "yTrain = onehot(labelTrain)\n",
    "yTest = onehot(labelTest)"
   ]
  },
  {
   "cell_type": "markdown",
   "metadata": {},
   "source": [
    "## Build the model using Tensorflow\n"
   ]
  },
  {
   "cell_type": "code",
   "execution_count": 12,
   "metadata": {},
   "outputs": [
    {
     "name": "stdout",
     "output_type": "stream",
     "text": [
      "Num GPUs Available:  1\n",
      "Model: \"sequential_1\"\n",
      "_________________________________________________________________\n",
      " Layer (type)                Output Shape              Param #   \n",
      "=================================================================\n",
      " reshape_2 (Reshape)         (None, 2, 128, 1)         0         \n",
      "                                                                 \n",
      " zero_padding2d_2 (ZeroPaddi  (None, 2, 132, 1)        0         \n",
      " ng2D)                                                           \n",
      "                                                                 \n",
      " conv1 (Conv2D)              (None, 2, 130, 256)       1024      \n",
      "                                                                 \n",
      " dropout_3 (Dropout)         (None, 2, 130, 256)       0         \n",
      "                                                                 \n",
      " zero_padding2d_3 (ZeroPaddi  (None, 2, 134, 256)      0         \n",
      " ng2D)                                                           \n",
      "                                                                 \n",
      " conv2 (Conv2D)              (None, 1, 132, 80)        122960    \n",
      "                                                                 \n",
      " dropout_4 (Dropout)         (None, 1, 132, 80)        0         \n",
      "                                                                 \n",
      " flatten_1 (Flatten)         (None, 10560)             0         \n",
      "                                                                 \n",
      " dense1 (Dense)              (None, 256)               2703616   \n",
      "                                                                 \n",
      " dropout_5 (Dropout)         (None, 256)               0         \n",
      "                                                                 \n",
      " dense2 (Dense)              (None, 4)                 1028      \n",
      "                                                                 \n",
      " activation_1 (Activation)   (None, 4)                 0         \n",
      "                                                                 \n",
      " reshape_3 (Reshape)         (None, 4)                 0         \n",
      "                                                                 \n",
      "=================================================================\n",
      "Total params: 2,828,628\n",
      "Trainable params: 2,828,628\n",
      "Non-trainable params: 0\n",
      "_________________________________________________________________\n"
     ]
    }
   ],
   "source": [
    "# CNN imports\n",
    "# TODO: Move these to the top of the file\n",
    "import numpy as np\n",
    "import os\n",
    "import tensorflow as tf\n",
    "from tensorflow.keras.layers import Reshape, ZeroPadding2D, Conv2D, Dropout, Flatten, Dense, Activation\n",
    "from tensorflow.keras import Sequential\n",
    "print(\"Num GPUs Available: \", len(tf.config.list_physical_devices('GPU')))\n",
    "# Build the model\n",
    "#   - Reshape the [N,2,128] input to [N,1,2,128]\n",
    "dropoutRate = 0.5\n",
    "model = Sequential()\n",
    "model.add(Reshape(inputShape+[1],\n",
    "                  input_shape=inputShape))\n",
    "model.add(ZeroPadding2D((2,0),\n",
    "                        data_format='channels_first'))\n",
    "model.add(Conv2D(256, (1, 3),\n",
    "                 activation='relu',\n",
    "                 padding='valid',\n",
    "                 name='conv1'))\n",
    "model.add(Dropout(dropoutRate))\n",
    "model.add(ZeroPadding2D((0, 2)))\n",
    "model.add(Conv2D(80, (2, 3),\n",
    "                 padding='valid',\n",
    "                 activation='relu',\n",
    "                 name='conv2'))\n",
    "model.add(Dropout(dropoutRate))\n",
    "model.add(Flatten())\n",
    "model.add(Dense(256,\n",
    "                activation='relu', kernel_initializer='he_normal', name='dense1'))\n",
    "model.add(Dropout(dropoutRate))\n",
    "model.add(Dense(len(classes),\n",
    "                kernel_initializer='he_normal', name='dense2'))\n",
    "model.add(Activation('softmax'))\n",
    "model.add(Reshape([len(classes)]))\n",
    "model.compile(loss='categorical_crossentropy', optimizer='Adam')\n",
    "model.summary()"
   ]
  },
  {
   "cell_type": "markdown",
   "metadata": {},
   "source": [
    "## Train the model"
   ]
  },
  {
   "cell_type": "code",
   "execution_count": 13,
   "metadata": {},
   "outputs": [
    {
     "name": "stdout",
     "output_type": "stream",
     "text": [
      "Epoch 1/100\n",
      "5/5 - 1s - loss: 1.3883 - val_loss: 1.3879 - 788ms/epoch - 158ms/step\n",
      "Epoch 2/100\n",
      "5/5 - 0s - loss: 1.3845 - val_loss: 1.3876 - 167ms/epoch - 33ms/step\n",
      "Epoch 3/100\n",
      "5/5 - 0s - loss: 1.3821 - val_loss: 1.3889 - 180ms/epoch - 36ms/step\n",
      "Epoch 4/100\n",
      "5/5 - 0s - loss: 1.3775 - val_loss: 1.3872 - 160ms/epoch - 32ms/step\n",
      "Epoch 5/100\n",
      "5/5 - 0s - loss: 1.3673 - val_loss: 1.3737 - 156ms/epoch - 31ms/step\n",
      "Epoch 6/100\n",
      "5/5 - 0s - loss: 1.3521 - val_loss: 1.3723 - 167ms/epoch - 33ms/step\n",
      "Epoch 7/100\n",
      "5/5 - 0s - loss: 1.3334 - val_loss: 1.3609 - 159ms/epoch - 32ms/step\n",
      "Epoch 8/100\n",
      "5/5 - 0s - loss: 1.2979 - val_loss: 1.3827 - 163ms/epoch - 33ms/step\n",
      "Epoch 9/100\n",
      "5/5 - 0s - loss: 1.2940 - val_loss: 1.4025 - 168ms/epoch - 34ms/step\n",
      "Epoch 10/100\n",
      "5/5 - 0s - loss: 1.2681 - val_loss: 1.3846 - 177ms/epoch - 35ms/step\n",
      "Epoch 11/100\n",
      "5/5 - 0s - loss: 1.2495 - val_loss: 1.3784 - 160ms/epoch - 32ms/step\n",
      "Epoch 12/100\n",
      "5/5 - 0s - loss: 1.2166 - val_loss: 1.4007 - 159ms/epoch - 32ms/step\n"
     ]
    }
   ],
   "source": [
    "nEpochs = 100\n",
    "batchSize = 512\n",
    "history = model.fit(xTrain,yTrain,\n",
    "                    batch_size=batchSize,\n",
    "                    epochs=nEpochs,\n",
    "                    validation_data=(xTest,yTest),\n",
    "                    verbose=2,\n",
    "                    callbacks = [\n",
    "                      tf.keras.callbacks.EarlyStopping(monitor='val_loss', patience=5, verbose=0, mode='auto'),\n",
    "                    ])"
   ]
  },
  {
   "cell_type": "code",
   "execution_count": 14,
   "metadata": {},
   "outputs": [
    {
     "name": "stdout",
     "output_type": "stream",
     "text": [
      "1.4007072448730469\n"
     ]
    },
    {
     "data": {
      "image/png": "[encoded data removed]",
      "text/plain": [
       "<Figure size 432x288 with 1 Axes>"
      ]
     },
     "metadata": {
      "needs_background": "light"
     },
     "output_type": "display_data"
    },
    {
     "data": {
      "image/png": "[encoded data removed]",
      "text/plain": [
       "<Figure size 432x288 with 2 Axes>"
      ]
     },
     "metadata": {
      "needs_background": "light"
     },
     "output_type": "display_data"
    }
   ],
   "source": [
    "score = model.evaluate(xTest,yTest,verbose=0,batch_size=batchSize)\n",
    "print(score)\n",
    "# Show loss curves \n",
    "plt.figure()\n",
    "plt.title('Training performance')\n",
    "plt.plot(history.epoch, history.history['loss'], label='train loss+error')\n",
    "plt.plot(history.epoch, history.history['val_loss'], label='val_error')\n",
    "plt.legend()\n",
    "plt.show()\n",
    "\n",
    "def plot_confusion_matrix(cm, title='Confusion matrix', cmap=plt.cm.Blues, labels=[]):\n",
    "    plt.imshow(cm, interpolation='nearest', cmap=cmap)\n",
    "    plt.title(title)\n",
    "    plt.colorbar()\n",
    "    tick_marks = np.arange(len(labels))\n",
    "    plt.xticks(tick_marks, labels, rotation=45)\n",
    "    plt.yticks(tick_marks, labels)\n",
    "    plt.tight_layout()\n",
    "    plt.ylabel('True label')\n",
    "    plt.xlabel('Predicted label')\n",
    "\n",
    "\n",
    "# Plot confusion matrix\n",
    "test_Y_hat = model.predict(xTest, batch_size=batchSize)\n",
    "conf = np.zeros([len(classes),len(classes)])\n",
    "confnorm = np.zeros([len(classes),len(classes)])\n",
    "for i in range(0,xTest.shape[0]):\n",
    "    j = list(yTest[i,:]).index(1)\n",
    "    k = int(np.argmax(test_Y_hat[i,:]))\n",
    "    conf[j,k] = conf[j,k] + 1\n",
    "for i in range(0,len(classes)):\n",
    "    confnorm[i,:] = conf[i,:] / np.sum(conf[i,:])\n",
    "plot_confusion_matrix(confnorm, labels=classes)"
   ]
  }
 ],
 "metadata": {
  "interpreter": {
   "hash": "0e10ce5ca030b7316f5da6479fec2bbf42d51c34ff7bcc046cdce9c0a3e6e4c8"
  },
  "kernelspec": {
   "display_name": "Python 3.8.10 64-bit ('cs5033-final-project-8TZ9n3iP': venv)",
   "name": "python3"
  },
  "language_info": {
   "codemirror_mode": {
    "name": "ipython",
    "version": 3
   },
   "file_extension": ".py",
   "mimetype": "text/x-python",
   "name": "python",
   "nbconvert_exporter": "python",
   "pygments_lexer": "ipython3",
   "version": "3.8.10"
  },
  "orig_nbformat": 4
 },
 "nbformat": 4,
 "nbformat_minor": 2
}
