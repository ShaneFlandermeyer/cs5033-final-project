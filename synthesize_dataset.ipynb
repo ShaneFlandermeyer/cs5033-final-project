{
 "cells": [
  {
   "cell_type": "code",
   "execution_count": 4,
   "metadata": {},
   "outputs": [],
   "source": [
    "import numpy as np\n",
    "import matplotlib.pyplot as plt\n",
    "from pathlib import Path\n",
    "from gnuradio import channels, gr, blocks, analog, digital\n",
    "import datetime as dt\n",
    "import random,time\n",
    "import sigmf\n",
    "from sigmf import SigMFFile, sigmffile, utils\n",
    "from signals.communications import *\n",
    "from signals.radar import * \n",
    "from tqdm.notebook import tqdm"
   ]
  },
  {
   "cell_type": "markdown",
   "metadata": {},
   "source": [
    "## Global Variables"
   ]
  },
  {
   "cell_type": "code",
   "execution_count": 5,
   "metadata": {},
   "outputs": [],
   "source": [
    "# Modulation parameters\n",
    "sampRate = 20e6\n",
    "# Metadata setup\n",
    "dataDir = 'data/'\n",
    "filename = 'dataset'\n",
    "# Create directory if it doesn't exist\n",
    "Path(dataDir).mkdir(parents=True, exist_ok=True)\n",
    "# Open and close the data file to create it if it doesn't exist. This is\n",
    "# necessary for the SigMFFile object below\n",
    "datafile = open(dataDir+filename+'.sigmf-data', 'w+')\n",
    "datafile.close()\n",
    "meta = SigMFFile(\n",
    "    data_file=dataDir+filename+'.sigmf-data',\n",
    "    global_info={\n",
    "        # TODO: Determine the data type key programatically from the data array\n",
    "        SigMFFile.DATATYPE_KEY: 'cf32_le',\n",
    "        SigMFFile.SAMPLE_RATE_KEY: sampRate,\n",
    "        SigMFFile.AUTHOR_KEY: 'Shane Flandermeyer, shane.flandermeyer@ou.edu',\n",
    "        SigMFFile.DESCRIPTION_KEY: 'Synthetic RF dataset for machine learning',\n",
    "        SigMFFile.VERSION_KEY: sigmf.__version__,\n",
    "    }\n",
    ")\n",
    "# Channel parameters\n",
    "snr = 0\n",
    "noise_voltage = 10**(-snr/20)\n",
    "minBandwidth = 1e6\n",
    "maxBandwidth = 100e6\n",
    "minPulsewidth = 1e-6\n",
    "maxPulsewidth = 100e-6\n",
    "fD = 1\n",
    "delays = [0.0, 0.9, 1.7]\n",
    "mags = [1, 0.8, 0.3]\n",
    "ntaps = 8\n",
    "useChannelModel = True"
   ]
  },
  {
   "cell_type": "markdown",
   "metadata": {},
   "source": [
    "## Main Simulation Loop"
   ]
  },
  {
   "cell_type": "code",
   "execution_count": 6,
   "metadata": {},
   "outputs": [
    {
     "data": {
      "application/vnd.jupyter.widget-view+json": {
       "model_id": "bc2296e795534bc094e396ef0f67ce00",
       "version_major": 2,
       "version_minor": 0
      },
      "text/plain": [
       "  0%|          | 0/1000 [00:00<?, ?it/s]"
      ]
     },
     "metadata": {},
     "output_type": "display_data"
    },
    {
     "data": {
      "application/vnd.jupyter.widget-view+json": {
       "model_id": "42c9a899ef924da3ab1673448419666f",
       "version_major": 2,
       "version_minor": 0
      },
      "text/plain": [
       "  0%|          | 0/1000 [00:00<?, ?it/s]"
      ]
     },
     "metadata": {},
     "output_type": "display_data"
    },
    {
     "data": {
      "application/vnd.jupyter.widget-view+json": {
       "model_id": "0cdc8ea0ebac4076926a91d15f2231d2",
       "version_major": 2,
       "version_minor": 0
      },
      "text/plain": [
       "  0%|          | 0/1000 [00:00<?, ?it/s]"
      ]
     },
     "metadata": {},
     "output_type": "display_data"
    },
    {
     "data": {
      "application/vnd.jupyter.widget-view+json": {
       "model_id": "e1b47683c99144d3a718392de7920323",
       "version_major": 2,
       "version_minor": 0
      },
      "text/plain": [
       "  0%|          | 0/1000 [00:00<?, ?it/s]"
      ]
     },
     "metadata": {},
     "output_type": "display_data"
    },
    {
     "data": {
      "application/vnd.jupyter.widget-view+json": {
       "model_id": "7a677c31636b41248e04abb887d7838a",
       "version_major": 2,
       "version_minor": 0
      },
      "text/plain": [
       "  0%|          | 0/1000 [00:00<?, ?it/s]"
      ]
     },
     "metadata": {},
     "output_type": "display_data"
    }
   ],
   "source": [
    "# Number of vectors per modulation class\n",
    "nVecClass = 1000\n",
    "# Number of samples per class vector\n",
    "nSampsVec = 128\n",
    "# Loop through all the waveform types defined in this list\n",
    "np.random.seed(0)\n",
    "waveforms = [LinearFMWaveform, SquareWaveform, bpsk, qpsk, qam(16)]\n",
    "nClasses = len(waveforms)\n",
    "nSampsTotal = nSampsVec*nVecClass*nClasses\n",
    "data = np.zeros((nSampsTotal,), dtype=np.complex64)\n",
    "nSampsProduced = 0\n",
    "for wave in waveforms:\n",
    "    # Flowgraph\n",
    "    tb = gr.top_block()\n",
    "    sink = blocks.vector_sink_c()\n",
    "    # Waveform parameters\n",
    "    bandwidth = minBandwidth + np.random.rand()*(maxBandwidth-minBandwidth)\n",
    "    pulsewidth = minPulsewidth + np.random.rand()*(maxPulsewidth-minPulsewidth)\n",
    "    # Create signal object and associated transmitter\n",
    "    if callable(wave):\n",
    "        sig = wave(bandwidth=bandwidth,\n",
    "                pulsewidth=pulsewidth, sampRate=sampRate)\n",
    "    else:\n",
    "        sig = wave\n",
    "    tx = sig.transmitter(repeat=False)\n",
    "    # Generate nVecClass vectors of nSampsVec samples each\n",
    "    for iVec in tqdm(range(nVecClass)):\n",
    "        # Random SNR from -20 to 20 dB\n",
    "        snr = np.random.rand()*40-20\n",
    "        noise_voltage = 10**(-snr/10)\n",
    "        channel = channels.dynamic_channel_model(\n",
    "            sampRate, 0.01, 50, .01, 0.5e3, 8, fD, True, 4, delays, mags, ntaps, noise_voltage, 0x1337)\n",
    "        # Assemble the flowgraph\n",
    "        if useChannelModel:\n",
    "            tb.connect(tx, channel, sink)\n",
    "        else:\n",
    "            tb.connect(tx, sink)\n",
    "        # Run the simulation\n",
    "        tb.run()\n",
    "        # Disconnect the flowgraph\n",
    "        if useChannelModel:\n",
    "            tb.disconnect(tx, channel, sink)\n",
    "        else:\n",
    "            tb.disconnect(tx, sink)\n",
    "        startIdx = np.random.randint(0, len(sink.data())-nSampsVec)\n",
    "        result = np.array(\n",
    "            sink.data()[startIdx:startIdx+nSampsVec], dtype=np.complex64)\n",
    "        # Save off the data and corresponding metadata\n",
    "        # TODO: This gets slow when we try to generate lots of data\n",
    "        detail = sig.detail\n",
    "        metaDict = {\n",
    "            SigMFFile.LABEL_KEY: sig.label,\n",
    "            SigMFFile.DATETIME_KEY: dt.datetime.utcnow().isoformat()+'Z'}\n",
    "        metaDict[sig.DETAIL_KEY] = detail.dict()\n",
    "        meta.add_annotation(nSampsProduced, len(result), metadata=metaDict)\n",
    "        # Normalize the energy to stay consistent with different modulations\n",
    "        energy = np.sum(np.abs(result)**2)\n",
    "        data[nSampsProduced:nSampsProduced+nSampsVec] = result/np.sqrt(energy)\n",
    "        nSampsProduced += nSampsVec\n",
    "        # TODO: Update the waveform for the next iteration\n",
    "        if isinstance(sig,RadarWaveform):\n",
    "            bandwidth = minBandwidth + np.random.rand()*(maxBandwidth-minBandwidth)\n",
    "            pulsewidth = minPulsewidth + np.random.rand()*(maxPulsewidth-minPulsewidth)\n",
    "            # Create signal object and associated transmitter\n",
    "            sig.bandwidth = bandwidth\n",
    "            sig.pulsewidth = pulsewidth\n",
    "            tx = sig.transmitter()\n",
    "# Check for mistakes and write to file\n",
    "data.tofile(dataDir+filename+'.sigmf-data')\n",
    "assert meta.validate()\n",
    "# Write metadata to file\n",
    "meta.tofile(dataDir+filename)\n"
   ]
  }
 ],
 "metadata": {
  "interpreter": {
   "hash": "ec52523b6d74cfd412f67120840020d556033b420c24f9d3f9d6b6b378980bda"
  },
  "kernelspec": {
   "display_name": "Python 3.8.10 64-bit ('cs5033-final-project-8TZ9n3iP': virtualenv)",
   "name": "python3"
  },
  "language_info": {
   "codemirror_mode": {
    "name": "ipython",
    "version": 3
   },
   "file_extension": ".py",
   "mimetype": "text/x-python",
   "name": "python",
   "nbconvert_exporter": "python",
   "pygments_lexer": "ipython3",
   "version": "3.8.10"
  },
  "orig_nbformat": 4
 },
 "nbformat": 4,
 "nbformat_minor": 2
}
