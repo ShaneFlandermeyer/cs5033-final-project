{
 "cells": [
  {
   "cell_type": "code",
   "execution_count": 1,
   "metadata": {},
   "outputs": [],
   "source": [
    "from gnuradio import channels, gr, blocks, analog, digital\n",
    "import numpy as np\n",
    "import matplotlib.pyplot as plt\n",
    "import datetime as dt\n",
    "import sigmf\n",
    "from sigmf import SigMFFile\n",
    "from signals.comms import modulations, bpsk\n",
    "from pathlib import Path"
   ]
  },
  {
   "cell_type": "markdown",
   "metadata": {},
   "source": [
    "## Global Variables"
   ]
  },
  {
   "cell_type": "code",
   "execution_count": 2,
   "metadata": {},
   "outputs": [],
   "source": [
    "# Channel parameters\n",
    "snr = 13\n",
    "noise_voltage = 10**(-snr/20)\n",
    "nSamples = int(1e3)\n",
    "# Modulation parameteres\n",
    "sampRate = 200e3\n",
    "sampsPerSym = 2\n",
    "symRate = sampRate / sampsPerSym\n",
    "# Metadata setup\n",
    "dataDir = 'data/'\n",
    "filename = 'dataset'\n",
    "# Create directory if it doesn't exist\n",
    "Path(dataDir).mkdir(parents=True, exist_ok=True)\n",
    "# Open and close the data file to create it if it doesn't exist. This is\n",
    "# necessary for the SigMFFile object below\n",
    "datafile = open(dataDir+filename+'.sigmf-data','w+')\n",
    "datafile.close()\n",
    "meta = SigMFFile(\n",
    "  data_file=dataDir+filename+'.sigmf-data',\n",
    "  global_info={\n",
    "    SigMFFile.DATATYPE_KEY: 'cf32_le',\n",
    "    SigMFFile.SAMPLE_RATE_KEY: sampRate,\n",
    "    SigMFFile.AUTHOR_KEY: 'Shane Flandermeyer, shane.flandermeyer@ou.edu',\n",
    "    SigMFFile.DESCRIPTION_KEY: 'Synthetic RF dataset for machine learning',\n",
    "    SigMFFile.VERSION_KEY: sigmf.__version__,\n",
    "  }\n",
    ")\n"
   ]
  },
  {
   "cell_type": "markdown",
   "metadata": {},
   "source": [
    "## Now do it in a loop"
   ]
  },
  {
   "cell_type": "code",
   "execution_count": 3,
   "metadata": {},
   "outputs": [
    {
     "name": "stdout",
     "output_type": "stream",
     "text": [
      "Created 2 sample vectors\n"
     ]
    }
   ],
   "source": [
    "# Number of vectors per modulation class\n",
    "nVecClass = 1000\n",
    "# Number of samples per vector\n",
    "nSamplesVec = 128\n",
    "\n",
    "# Loop through all the available modulation types\n",
    "data = np.zeros((0,), dtype=np.complex64)\n",
    "# A running cound of the number of samples produced\n",
    "nSamplesProduced = 0\n",
    "nIterations = 0\n",
    "for alphabet_type in modulations.keys():\n",
    "    for ii, modulation_type in enumerate(modulations[alphabet_type]):\n",
    "        sig = modulation_type()\n",
    "        # Generate bits\n",
    "        src = analog.random_uniform_source_b(0, 256, 0)\n",
    "        # Symbol constellation\n",
    "        constellation = sig.constellation\n",
    "        # Constellation modulator\n",
    "        mod = digital.generic_mod(\n",
    "            constellation=constellation,\n",
    "            differential=False,\n",
    "            samples_per_symbol=2,\n",
    "            pre_diff_code=True,\n",
    "            excess_bw=0.35,\n",
    "            verbose=False,\n",
    "            log=False,\n",
    "            truncate=False)\n",
    "        channel = channels.channel_model(noise_voltage=noise_voltage, taps=[1])\n",
    "        # Head block to limit the number of samples\n",
    "        head = blocks.head(gr.sizeof_char, nSamples)\n",
    "        # Vector sink\n",
    "        sink = blocks.vector_sink_c()\n",
    "        # Create and run the flowgraph\n",
    "        tb = gr.top_block()\n",
    "        tb.connect(src, head, mod, channel, sink)\n",
    "        tb.run()\n",
    "        data = np.append(data,np.array(sink.data(), dtype=np.complex64))\n",
    "        # Create the metadata dictionary\n",
    "        # TODO: This isn't too bad, but I can do even better\n",
    "        detail = sig.detail\n",
    "        metaDict = {SigMFFile.DATETIME_KEY: dt.datetime.utcnow().isoformat()+'Z'}\n",
    "        metaDict[sig.DETAIL_KEY] = detail.dict()    \n",
    "        meta.add_capture(nSamplesProduced, metadata=metaDict)\n",
    "        nSamplesProduced += sink.nitems_read(0)\n",
    "        \n",
    "        nIterations += 1\n",
    "        \n",
    "\n",
    "print(f'Created {nIterations} sample vectors')\n",
    "# Check for mistakes and write to disk\n",
    "data.tofile(dataDir+filename+'.sigmf-data')\n",
    "assert meta.validate()\n",
    "meta.tofile(dataDir+filename) # extension is optional"
   ]
  },
  {
   "cell_type": "markdown",
   "metadata": {},
   "source": [
    "## Post Processing"
   ]
  },
  {
   "cell_type": "code",
   "execution_count": 4,
   "metadata": {},
   "outputs": [
    {
     "data": {
      "text/plain": [
       "[<matplotlib.lines.Line2D at 0x7f3958095490>]"
      ]
     },
     "execution_count": 4,
     "metadata": {},
     "output_type": "execute_result"
    },
    {
     "data": {
      "image/png": "[encoded data removed]",
      "text/plain": [
       "<Figure size 432x288 with 1 Axes>"
      ]
     },
     "metadata": {
      "needs_background": "light"
     },
     "output_type": "display_data"
    }
   ],
   "source": [
    "test = np.fromfile(dataDir+filename+'.sigmf-data', dtype=np.complex64)\n",
    "plt.plot(np.abs(test))"
   ]
  }
 ],
 "metadata": {
  "interpreter": {
   "hash": "ec52523b6d74cfd412f67120840020d556033b420c24f9d3f9d6b6b378980bda"
  },
  "kernelspec": {
   "display_name": "Python 3.8.10 64-bit ('cs5033-final-project-8TZ9n3iP': virtualenv)",
   "name": "python3"
  },
  "language_info": {
   "codemirror_mode": {
    "name": "ipython",
    "version": 3
   },
   "file_extension": ".py",
   "mimetype": "text/x-python",
   "name": "python",
   "nbconvert_exporter": "python",
   "pygments_lexer": "ipython3",
   "version": "3.8.10"
  },
  "orig_nbformat": 4
 },
 "nbformat": 4,
 "nbformat_minor": 2
}
