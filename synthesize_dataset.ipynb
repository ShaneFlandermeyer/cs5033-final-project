{
 "cells": [
  {
   "cell_type": "code",
   "execution_count": 9,
   "metadata": {},
   "outputs": [],
   "source": [
    "import numpy as np\n",
    "import matplotlib.pyplot as plt\n",
    "from pathlib import Path\n",
    "from gnuradio import channels, gr, blocks, analog, digital\n",
    "import datetime as dt\n",
    "import sigmf\n",
    "from sigmf import SigMFFile\n",
    "from signals.comms import *"
   ]
  },
  {
   "cell_type": "markdown",
   "metadata": {},
   "source": [
    "## Global Variables"
   ]
  },
  {
   "cell_type": "code",
   "execution_count": 10,
   "metadata": {},
   "outputs": [],
   "source": [
    "# Channel parameters\n",
    "snr = 13\n",
    "noise_voltage = 10**(-snr/20)\n",
    "nSamples = int(1e3)\n",
    "# Modulation parameteres\n",
    "sampRate = 200e3\n",
    "sampsPerSym = 2\n",
    "symRate = sampRate / sampsPerSym\n",
    "# Metadata setup\n",
    "dataDir = 'data/'\n",
    "filename = 'dataset'\n",
    "# Create directory if it doesn't exist\n",
    "Path(dataDir).mkdir(parents=True, exist_ok=True)\n",
    "# Open and close the data file to create it if it doesn't exist. This is\n",
    "# necessary for the SigMFFile object below\n",
    "datafile = open(dataDir+filename+'.sigmf-data','w+')\n",
    "datafile.close()\n",
    "meta = SigMFFile(\n",
    "  data_file=dataDir+filename+'.sigmf-data',\n",
    "  global_info={\n",
    "    SigMFFile.DATATYPE_KEY: 'cf32_le',\n",
    "    SigMFFile.SAMPLE_RATE_KEY: sampRate,\n",
    "    SigMFFile.AUTHOR_KEY: 'Shane Flandermeyer, shane.flandermeyer@ou.edu',\n",
    "    SigMFFile.DESCRIPTION_KEY: 'Synthetic RF dataset for machine learning',\n",
    "    SigMFFile.VERSION_KEY: sigmf.__version__,\n",
    "  }\n",
    ")\n"
   ]
  },
  {
   "cell_type": "markdown",
   "metadata": {},
   "source": [
    "## Now do it in a loop"
   ]
  },
  {
   "cell_type": "code",
   "execution_count": 11,
   "metadata": {},
   "outputs": [
    {
     "name": "stdout",
     "output_type": "stream",
     "text": [
      "Created 100 sample vectors\n"
     ]
    }
   ],
   "source": [
    "# Number of vectors per modulation class\n",
    "nVecClass = 50\n",
    "# Number of samples per vector\n",
    "nSamplesVec = 128\n",
    "data = np.zeros((0,), dtype=np.complex64)\n",
    "# A running count of the number of samples produced\n",
    "nSamplesProduced = 0\n",
    "# A running cound of the number of vectors produced\n",
    "nIterations = 0\n",
    "# Loop through all the modulation types defined in this list\n",
    "modulations = [bpsk, qpsk]\n",
    "for modulation in modulations:\n",
    "    if isinstance(modulation, type):\n",
    "        # If the current element is a type object, create a new instance of that\n",
    "        # class\n",
    "        sig = modulation()\n",
    "    else:\n",
    "        # Otherwise we can just use the object directly\n",
    "        sig = modulation\n",
    "    # Create and run the flowgraph\n",
    "    # Flowgraph object\n",
    "    tb = gr.top_block()\n",
    "    # Draw 8-bit sequences from a uniform distribution\n",
    "    src = analog.random_uniform_source_b(0, 256, 0)\n",
    "    # Symbol constellation\n",
    "    constellation = sig.constellation\n",
    "    # Constellation modulator\n",
    "    mod = digital.generic_mod(\n",
    "        constellation=constellation,\n",
    "        differential=False,\n",
    "        samples_per_symbol=2,\n",
    "        pre_diff_code=True,\n",
    "        excess_bw=0.35,\n",
    "        verbose=False,\n",
    "        log=False,\n",
    "        truncate=False)\n",
    "    channel = channels.channel_model(\n",
    "        noise_voltage=noise_voltage, taps=[1])\n",
    "    # Head block to limit the number of samples\n",
    "    head = blocks.head(gr.sizeof_char, nSamples)\n",
    "    # Vector sink\n",
    "    sink = blocks.vector_sink_c()\n",
    "    tb.connect(src, head, mod, channel, sink)\n",
    "    # Generate nVecClass vectors of nSamplesVec samples each\n",
    "    for iVec in range(nVecClass):\n",
    "        head.reset()\n",
    "        sink.reset()\n",
    "        tb.run()\n",
    "        result = sink.data()\n",
    "        # Normalize the energy to stay consistent with different modulations\n",
    "        energy = np.sum(np.abs(result)**2)\n",
    "        data = np.append(data, np.array(result/energy, dtype=np.complex64))\n",
    "        # Create the metadata dictionary\n",
    "        detail = sig.detail\n",
    "        metaDict = {\n",
    "            SigMFFile.DATETIME_KEY: dt.datetime.utcnow().isoformat()+'Z'}\n",
    "        metaDict[sig.DETAIL_KEY] = detail.dict()\n",
    "        meta.add_annotation(nSamplesProduced, len(result), metadata=metaDict)\n",
    "        nSamplesProduced += sink.nitems_read(0)\n",
    "        nIterations += 1\n",
    "\n",
    "print(f'Created {nIterations} sample vectors')\n",
    "# Check for mistakes and write to disk\n",
    "data.tofile(dataDir+filename+'.sigmf-data')\n",
    "assert meta.validate()\n",
    "meta.tofile(dataDir+filename)  # extension is optional\n"
   ]
  },
  {
   "cell_type": "markdown",
   "metadata": {},
   "source": [
    "## Post Processing"
   ]
  },
  {
   "cell_type": "code",
   "execution_count": 12,
   "metadata": {},
   "outputs": [
    {
     "data": {
      "image/png": "[encoded data removed]",
      "text/plain": [
       "<Figure size 432x288 with 1 Axes>"
      ]
     },
     "metadata": {
      "needs_background": "light"
     },
     "output_type": "display_data"
    }
   ],
   "source": [
    "test = np.fromfile(dataDir+filename+'.sigmf-data', dtype=np.complex64)\n",
    "plt.plot(np.abs(test))\n",
    "plt.show()"
   ]
  }
 ],
 "metadata": {
  "interpreter": {
   "hash": "ec52523b6d74cfd412f67120840020d556033b420c24f9d3f9d6b6b378980bda"
  },
  "kernelspec": {
   "display_name": "Python 3.8.10 64-bit ('cs5033-final-project-8TZ9n3iP': virtualenv)",
   "name": "python3"
  },
  "language_info": {
   "codemirror_mode": {
    "name": "ipython",
    "version": 3
   },
   "file_extension": ".py",
   "mimetype": "text/x-python",
   "name": "python",
   "nbconvert_exporter": "python",
   "pygments_lexer": "ipython3",
   "version": "3.8.10"
  },
  "orig_nbformat": 4
 },
 "nbformat": 4,
 "nbformat_minor": 2
}
