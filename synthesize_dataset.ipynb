{
 "cells": [
  {
   "cell_type": "code",
   "execution_count": 43,
   "metadata": {},
   "outputs": [],
   "source": [
    "import numpy as np\n",
    "import matplotlib.pyplot as plt\n",
    "from pathlib import Path\n",
    "from gnuradio import channels, gr, blocks, analog, digital\n",
    "import datetime as dt\n",
    "import random\n",
    "import sigmf\n",
    "from sigmf import SigMFFile\n",
    "from signals.comms import *\n",
    "from signals.radar import *\n",
    "\n",
    "from tqdm.notebook import tqdm"
   ]
  },
  {
   "cell_type": "markdown",
   "metadata": {},
   "source": [
    "## Global Variables"
   ]
  },
  {
   "cell_type": "code",
   "execution_count": 44,
   "metadata": {},
   "outputs": [],
   "source": [
    "# Channel parameters\n",
    "snr = 1e6\n",
    "noise_voltage = 10**(-snr/20)\n",
    "# Modulation parameters\n",
    "sampRate = 20e6\n",
    "sampsPerSym = 2\n",
    "symRate = sampRate / sampsPerSym\n",
    "# Metadata setup\n",
    "dataDir = 'data/'\n",
    "filename = 'dataset'\n",
    "# Create directory if it doesn't exist\n",
    "Path(dataDir).mkdir(parents=True, exist_ok=True)\n",
    "# Open and close the data file to create it if it doesn't exist. This is\n",
    "# necessary for the SigMFFile object below\n",
    "datafile = open(dataDir+filename+'.sigmf-data','w+')\n",
    "datafile.close()\n",
    "meta = SigMFFile(\n",
    "  data_file=dataDir+filename+'.sigmf-data',\n",
    "  global_info={\n",
    "    SigMFFile.DATATYPE_KEY: 'cf32_le',\n",
    "    SigMFFile.SAMPLE_RATE_KEY: sampRate,\n",
    "    SigMFFile.AUTHOR_KEY: 'Shane Flandermeyer, shane.flandermeyer@ou.edu',\n",
    "    SigMFFile.DESCRIPTION_KEY: 'Synthetic RF dataset for machine learning',\n",
    "    SigMFFile.VERSION_KEY: sigmf.__version__,\n",
    "  }\n",
    ")\n"
   ]
  },
  {
   "cell_type": "markdown",
   "metadata": {},
   "source": [
    "## Main Simulation Loop"
   ]
  },
  {
   "cell_type": "code",
   "execution_count": 45,
   "metadata": {},
   "outputs": [],
   "source": [
    "# # Number of vectors per modulation class\n",
    "# nVecClass = 10000\n",
    "# # Number of samples per class vector\n",
    "# # TODO: For some reason, GNU Radio always produces 8 samples less than expected,\n",
    "# # so we need to add 8 to the number of samples to get the correct value\n",
    "# nSamplesVec = 128+8\n",
    "\n",
    "# # A running count of the number of samples produced\n",
    "# nSamplesProduced = 0\n",
    "# # A running cound of the number of vectors produced\n",
    "# nIterations = 0\n",
    "# # Loop through all the modulation types defined in this list\n",
    "# modulations = [bpsk, qpsk]\n",
    "# nClasses = len(modulations)\n",
    "# nSampsTotal = (nSamplesVec-8)*nVecClass*nClasses\n",
    "# data = np.zeros((nSampsTotal,), dtype=np.complex64)\n",
    "# for modulation in modulations:\n",
    "#     if isinstance(modulation, type):\n",
    "#         # If the current element is a type object, create a new instance of that\n",
    "#         # class\n",
    "#         sig = modulation()\n",
    "#     else:\n",
    "#         # Otherwise we can just use the object directly\n",
    "#         sig = modulation\n",
    "#     # Create and run the flowgraph\n",
    "#     # Flowgraph object\n",
    "#     tb = gr.top_block()\n",
    "#     # Draw 8-bit sequences from a uniform distribution\n",
    "#     src = analog.random_uniform_source_b(0, 256, 0)\n",
    "#     # Symbol constellation\n",
    "#     constellation = sig.constellation\n",
    "#     # Constellation modulator\n",
    "#     mod = digital.generic_mod(\n",
    "#         constellation=constellation,\n",
    "#         differential=False,\n",
    "#         samples_per_symbol=2,\n",
    "#         pre_diff_code=True,\n",
    "#         excess_bw=0.35,\n",
    "#         verbose=False,\n",
    "#         log=False,\n",
    "#         truncate=False)\n",
    "#     channel = channels.channel_model(\n",
    "#         noise_voltage=noise_voltage, taps=[1])\n",
    "#     # Head block to limit the number of samples\n",
    "#     head = blocks.head(gr.sizeof_gr_complex, nSamplesVec)\n",
    "#     # Vector sink\n",
    "#     sink = blocks.vector_sink_c()\n",
    "#     tb.connect(src, mod, head, channel, sink)\n",
    "#     # Generate nVecClass vectors of nSamplesVec samples each\n",
    "#     for iVec in tqdm(range(nVecClass)):\n",
    "#         head.reset()\n",
    "#         sink.reset()\n",
    "#         tb.run()\n",
    "#         result = sink.data()\n",
    "#         # Normalize the energy to stay consistent with different modulations\n",
    "#         energy = np.sum(np.abs(result)**2)\n",
    "#         data[nSamplesProduced:nSamplesProduced+len(result)] = result/energy\n",
    "#         # data = np.append(data, np.array(result/energy, dtype=np.complex64))\n",
    "#         # Create the metadata dictionary\n",
    "#         # TODO: This gets slow when we try to generate lots of data\n",
    "#         detail = sig.detail\n",
    "#         metaDict = {\n",
    "#             SigMFFile.LABEL_KEY: sig.label,\n",
    "#             SigMFFile.DATETIME_KEY: dt.datetime.utcnow().isoformat()+'Z'}\n",
    "#         metaDict[sig.DETAIL_KEY] = detail.dict()\n",
    "#         meta.add_annotation(nSamplesProduced, len(result), metadata=metaDict)\n",
    "#         nSamplesProduced += sink.nitems_read(0)\n",
    "#         nIterations += 1\n",
    "\n",
    "# print(\n",
    "#     f'Created {nIterations} sample vectors of length {int(nSamplesProduced/nIterations)}')\n",
    "# # Check for mistakes and write to disk\n",
    "# data.tofile(dataDir+filename+'.sigmf-data')\n",
    "# assert meta.validate()\n",
    "# meta.tofile(dataDir+filename)  # extension is optional\n"
   ]
  },
  {
   "cell_type": "markdown",
   "metadata": {},
   "source": [
    "## Radar waveform simulation"
   ]
  },
  {
   "cell_type": "code",
   "execution_count": 46,
   "metadata": {},
   "outputs": [
    {
     "data": {
      "application/vnd.jupyter.widget-view+json": {
       "model_id": "e37eb653225b40999869bac0996911df",
       "version_major": 2,
       "version_minor": 0
      },
      "text/plain": [
       "  0%|          | 0/1 [00:00<?, ?it/s]"
      ]
     },
     "metadata": {},
     "output_type": "display_data"
    },
    {
     "data": {
      "application/vnd.jupyter.widget-view+json": {
       "model_id": "eca0c801f9b1495989b00bed53a132cd",
       "version_major": 2,
       "version_minor": 0
      },
      "text/plain": [
       "  0%|          | 0/1 [00:00<?, ?it/s]"
      ]
     },
     "metadata": {},
     "output_type": "display_data"
    },
    {
     "name": "stdout",
     "output_type": "stream",
     "text": [
      "Created 2 sample vectors of length 128\n"
     ]
    }
   ],
   "source": [
    "# Number of vectors per modulation class\n",
    "nVecClass = 1\n",
    "# Number of samples per class vector\n",
    "# TODO: For some reason, GNU Radio always produces 8 samples less than expected,\n",
    "# so we need to add 8 to the number of samples to get the correct value\n",
    "nSamplesVec = 128+8\n",
    "\n",
    "# A running count of the number of samples produced\n",
    "nSamplesProduced = 0\n",
    "# A running cound of the number of vectors produced\n",
    "nIterations = 0\n",
    "# Loop through all the waveform types defined in this list\n",
    "np.random.seed(0)\n",
    "bandwidth = 1e6 + np.random.rand()*9e6\n",
    "pulsewidth = 1e-6 + np.random.rand()*1e-6\n",
    "waveforms = [LinearFMWaveform(bandwidth, pulsewidth, sampRate), SquareWaveform(pulsewidth, sampRate)]\n",
    "nClasses=len(waveforms)\n",
    "nSampsTotal=(nSamplesVec-8)*nVecClass*nClasses\n",
    "data=np.zeros((nSampsTotal,), dtype = np.complex64)\n",
    "for wave in waveforms:\n",
    "    tb = gr.top_block()\n",
    "    tx=wave.transmitter(nSamps = nSamplesVec)\n",
    "    channel=channels.channel_model(\n",
    "        noise_voltage = noise_voltage, taps = [1])\n",
    "    # Vector sink\n",
    "    sink=blocks.vector_sink_c()\n",
    "    tb.connect(tx, channel, sink)\n",
    "    # Generate nVecClass vectors of nSamplesVec samples each\n",
    "    for iVec in tqdm(range(nVecClass)):\n",
    "        tx.reset()\n",
    "        sink.reset()\n",
    "        tb.run()\n",
    "        result=sink.data()\n",
    "        # Normalize the energy to stay consistent with different modulations\n",
    "        energy=np.sum(np.abs(result)**2)\n",
    "        data[nSamplesProduced:nSamplesProduced+len(result)]=result/energy\n",
    "        # data = np.append(data, np.array(result/energy, dtype=np.complex64))\n",
    "        # Create the metadata dictionary\n",
    "        # TODO: This gets slow when we try to generate lots of data\n",
    "        detail=wave.detail\n",
    "        metaDict={\n",
    "            SigMFFile.LABEL_KEY: wave.label,\n",
    "            SigMFFile.DATETIME_KEY: dt.datetime.utcnow().isoformat()+'Z'}\n",
    "        metaDict[wave.DETAIL_KEY] = detail.dict()\n",
    "        meta.add_annotation(nSamplesProduced, len(result), metadata=metaDict)\n",
    "        nSamplesProduced += sink.nitems_read(0)\n",
    "        nIterations += 1\n",
    "\n",
    "print(f'Created {nIterations} sample vectors of length {int(nSamplesProduced/nIterations)}')\n",
    "# Check for mistakes and write to disk\n",
    "data.tofile(dataDir+filename+'.sigmf-data')\n",
    "assert meta.validate()\n",
    "meta.tofile(dataDir+filename)  # extension is optional\n"
   ]
  },
  {
   "cell_type": "markdown",
   "metadata": {},
   "source": [
    "## Post Processing"
   ]
  },
  {
   "cell_type": "code",
   "execution_count": 48,
   "metadata": {},
   "outputs": [
    {
     "data": {
      "text/plain": [
       "1.0"
      ]
     },
     "execution_count": 48,
     "metadata": {},
     "output_type": "execute_result"
    },
    {
     "data": {
      "image/png": "[encoded data removed]",
      "text/plain": [
       "<Figure size 432x288 with 1 Axes>"
      ]
     },
     "metadata": {
      "needs_background": "light"
     },
     "output_type": "display_data"
    }
   ],
   "source": [
    "data = np.fromfile(dataDir+filename+'.sigmf-data', dtype=np.complex64)\n",
    "plt.plot(np.real(data))\n"
   ]
  }
 ],
 "metadata": {
  "interpreter": {
   "hash": "ec52523b6d74cfd412f67120840020d556033b420c24f9d3f9d6b6b378980bda"
  },
  "kernelspec": {
   "display_name": "Python 3.8.10 64-bit ('cs5033-final-project-8TZ9n3iP': virtualenv)",
   "name": "python3"
  },
  "language_info": {
   "codemirror_mode": {
    "name": "ipython",
    "version": 3
   },
   "file_extension": ".py",
   "mimetype": "text/x-python",
   "name": "python",
   "nbconvert_exporter": "python",
   "pygments_lexer": "ipython3",
   "version": "3.8.10"
  },
  "orig_nbformat": 4
 },
 "nbformat": 4,
 "nbformat_minor": 2
}
