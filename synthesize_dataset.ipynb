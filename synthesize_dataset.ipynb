{
 "cells": [
  {
   "cell_type": "code",
   "execution_count": 1,
   "metadata": {},
   "outputs": [],
   "source": [
    "from gnuradio import channels, gr, blocks, analog, digital\n",
    "import numpy as np\n",
    "import matplotlib.pyplot as plt\n",
    "import datetime as dt\n",
    "import sigmf\n",
    "from sigmf import SigMFFile\n",
    "from signals.comms import *\n",
    "from pathlib import Path"
   ]
  },
  {
   "cell_type": "markdown",
   "metadata": {},
   "source": [
    "## Global Variables"
   ]
  },
  {
   "cell_type": "code",
   "execution_count": 2,
   "metadata": {},
   "outputs": [],
   "source": [
    "# Channel parameters\n",
    "snr = 13\n",
    "noise_voltage = 10**(-snr/20)\n",
    "nSamples = int(1e3)\n",
    "# Modulation parameteres\n",
    "sampRate = 200e3\n",
    "sampsPerSym = 2\n",
    "symRate = sampRate / sampsPerSym\n",
    "# Metadata setup\n",
    "dataDir = 'data/'\n",
    "filename = 'dataset'\n",
    "# Create directory if it doesn't exist\n",
    "Path(dataDir).mkdir(parents=True, exist_ok=True)\n",
    "# Open and close the data file to create it if it doesn't exist. This is\n",
    "# necessary for the SigMFFile object below\n",
    "datafile = open(dataDir+filename+'.sigmf-data','w+')\n",
    "datafile.close()\n",
    "meta = SigMFFile(\n",
    "  data_file=dataDir+filename+'.sigmf-data',\n",
    "  global_info={\n",
    "    SigMFFile.DATATYPE_KEY: 'cf32_le',\n",
    "    SigMFFile.SAMPLE_RATE_KEY: sampRate,\n",
    "    SigMFFile.AUTHOR_KEY: 'Shane Flandermeyer, shane.flandermeyer@ou.edu',\n",
    "    SigMFFile.DESCRIPTION_KEY: 'Synthetic RF dataset for machine learning',\n",
    "    SigMFFile.VERSION_KEY: sigmf.__version__,\n",
    "  }\n",
    ")\n"
   ]
  },
  {
   "cell_type": "markdown",
   "metadata": {},
   "source": [
    "## Now do it in a loop"
   ]
  },
  {
   "cell_type": "code",
   "execution_count": 3,
   "metadata": {},
   "outputs": [
    {
     "ename": "KeyError",
     "evalue": "'modulation'",
     "output_type": "error",
     "traceback": [
      "\u001b[0;31m---------------------------------------------------------------------------\u001b[0m",
      "\u001b[0;31mKeyError\u001b[0m                                  Traceback (most recent call last)",
      "\u001b[0;32m/tmp/ipykernel_94438/1109971073.py\u001b[0m in \u001b[0;36m<module>\u001b[0;34m\u001b[0m\n\u001b[1;32m     49\u001b[0m     metaDict = {\n\u001b[1;32m     50\u001b[0m         SigMFFile.DATETIME_KEY: dt.datetime.utcnow().isoformat()+'Z'}\n\u001b[0;32m---> 51\u001b[0;31m     \u001b[0mmetaDict\u001b[0m\u001b[0;34m[\u001b[0m\u001b[0msig\u001b[0m\u001b[0;34m.\u001b[0m\u001b[0mDETAIL_KEY\u001b[0m\u001b[0;34m]\u001b[0m \u001b[0;34m=\u001b[0m \u001b[0mdetail\u001b[0m\u001b[0;34m.\u001b[0m\u001b[0mdict\u001b[0m\u001b[0;34m(\u001b[0m\u001b[0;34m)\u001b[0m\u001b[0;34m\u001b[0m\u001b[0;34m\u001b[0m\u001b[0m\n\u001b[0m\u001b[1;32m     52\u001b[0m     \u001b[0mmeta\u001b[0m\u001b[0;34m.\u001b[0m\u001b[0madd_annotation\u001b[0m\u001b[0;34m(\u001b[0m\u001b[0mnSamplesProduced\u001b[0m\u001b[0;34m,\u001b[0m \u001b[0mlen\u001b[0m\u001b[0;34m(\u001b[0m\u001b[0mresult\u001b[0m\u001b[0;34m)\u001b[0m\u001b[0;34m,\u001b[0m \u001b[0mmetadata\u001b[0m\u001b[0;34m=\u001b[0m\u001b[0mmetaDict\u001b[0m\u001b[0;34m)\u001b[0m\u001b[0;34m\u001b[0m\u001b[0;34m\u001b[0m\u001b[0m\n\u001b[1;32m     53\u001b[0m     \u001b[0mnSamplesProduced\u001b[0m \u001b[0;34m+=\u001b[0m \u001b[0msink\u001b[0m\u001b[0;34m.\u001b[0m\u001b[0mnitems_read\u001b[0m\u001b[0;34m(\u001b[0m\u001b[0;36m0\u001b[0m\u001b[0;34m)\u001b[0m\u001b[0;34m\u001b[0m\u001b[0;34m\u001b[0m\u001b[0m\n",
      "\u001b[0;32m~/onedrive/school/2021-fall/cs-5033/cs5033-final-project/signals/detail.py\u001b[0m in \u001b[0;36mdict\u001b[0;34m(self)\u001b[0m\n\u001b[1;32m     45\u001b[0m         \u001b[0;31m# Had to make 'modulation' the class variable storing the signal class\u001b[0m\u001b[0;34m\u001b[0m\u001b[0;34m\u001b[0m\u001b[0;34m\u001b[0m\u001b[0m\n\u001b[1;32m     46\u001b[0m         \u001b[0;31m# (analog/digital) because class is a keyword in python\u001b[0m\u001b[0;34m\u001b[0m\u001b[0;34m\u001b[0m\u001b[0;34m\u001b[0m\u001b[0m\n\u001b[0;32m---> 47\u001b[0;31m         \u001b[0md\u001b[0m\u001b[0;34m[\u001b[0m\u001b[0mself\u001b[0m\u001b[0;34m.\u001b[0m\u001b[0mCLASS_KEY\u001b[0m\u001b[0;34m]\u001b[0m \u001b[0;34m=\u001b[0m \u001b[0md\u001b[0m\u001b[0;34m.\u001b[0m\u001b[0mpop\u001b[0m\u001b[0;34m(\u001b[0m\u001b[0;34m\"modulation\"\u001b[0m\u001b[0;34m)\u001b[0m\u001b[0;34m\u001b[0m\u001b[0;34m\u001b[0m\u001b[0m\n\u001b[0m\u001b[1;32m     48\u001b[0m         \u001b[0;32mreturn\u001b[0m \u001b[0md\u001b[0m\u001b[0;34m\u001b[0m\u001b[0;34m\u001b[0m\u001b[0m\n\u001b[1;32m     49\u001b[0m \u001b[0;34m\u001b[0m\u001b[0m\n",
      "\u001b[0;31mKeyError\u001b[0m: 'modulation'"
     ]
    }
   ],
   "source": [
    "# Number of vectors per modulation class\n",
    "nVecClass = 1000\n",
    "# Number of samples per vector\n",
    "nSamplesVec = 128\n",
    "data = np.zeros((0,), dtype=np.complex64)\n",
    "# A running count of the number of samples produced\n",
    "nSamplesProduced = 0\n",
    "# A running cound of the number of vectors produced\n",
    "nIterations = 0\n",
    "# Loop through all the modulation types defined in this list\n",
    "psk(order=8)\n",
    "modulations = [bpsk, qpsk, psk(order=8)]\n",
    "for modulation in modulations:\n",
    "    if isinstance(modulation,type):\n",
    "        # If the current element is a type object, create a new instance of that\n",
    "        # class\n",
    "        sig = modulation()\n",
    "    # Generate bits\n",
    "    src = analog.random_uniform_source_b(0, 256, 0)\n",
    "    # Symbol constellation\n",
    "    constellation = sig.constellation\n",
    "    # Constellation modulator\n",
    "    mod = digital.generic_mod(\n",
    "        constellation=constellation,\n",
    "        differential=False,\n",
    "        samples_per_symbol=2,\n",
    "        pre_diff_code=True,\n",
    "        excess_bw=0.35,\n",
    "        verbose=False,\n",
    "        log=False,\n",
    "        truncate=False)\n",
    "    channel = channels.channel_model(\n",
    "        noise_voltage=noise_voltage, taps=[1])\n",
    "    # Head block to limit the number of samples\n",
    "    head = blocks.head(gr.sizeof_char, nSamples)\n",
    "    # Vector sink\n",
    "    sink = blocks.vector_sink_c()\n",
    "    # Create and run the flowgraph\n",
    "    tb = gr.top_block()\n",
    "    tb.connect(src, head, mod, channel, sink)\n",
    "    tb.run()\n",
    "    result = sink.data()\n",
    "    # Normalize the energy to stay consistent with different modulations\n",
    "    energy = np.sum(np.abs(result)**2)\n",
    "    data = np.append(data, np.array(result/energy, dtype=np.complex64))\n",
    "    # Create the metadata dictionary\n",
    "    # TODO: This isn't too bad, but I can do even better\n",
    "    detail = sig.detail\n",
    "    metaDict = {\n",
    "        SigMFFile.DATETIME_KEY: dt.datetime.utcnow().isoformat()+'Z'}\n",
    "    metaDict[sig.DETAIL_KEY] = detail.dict()\n",
    "    meta.add_annotation(nSamplesProduced, len(result), metadata=metaDict)\n",
    "    nSamplesProduced += sink.nitems_read(0)\n",
    "    nIterations += 1\n",
    "\n",
    "\n",
    "print(f'Created {nIterations} sample vectors')\n",
    "# Check for mistakes and write to disk\n",
    "data.tofile(dataDir+filename+'.sigmf-data')\n",
    "assert meta.validate()\n",
    "meta.tofile(dataDir+filename)  # extension is optional\n"
   ]
  },
  {
   "cell_type": "markdown",
   "metadata": {},
   "source": [
    "## Post Processing"
   ]
  },
  {
   "cell_type": "code",
   "execution_count": null,
   "metadata": {},
   "outputs": [],
   "source": [
    "test = np.fromfile(dataDir+filename+'.sigmf-data', dtype=np.complex64)\n",
    "plt.plot(np.abs(test))\n",
    "plt.show()\n",
    "plt.plot(np.real(test),np.imag(test))"
   ]
  }
 ],
 "metadata": {
  "interpreter": {
   "hash": "ec52523b6d74cfd412f67120840020d556033b420c24f9d3f9d6b6b378980bda"
  },
  "kernelspec": {
   "display_name": "Python 3.8.10 64-bit ('cs5033-final-project-8TZ9n3iP': virtualenv)",
   "name": "python3"
  },
  "language_info": {
   "codemirror_mode": {
    "name": "ipython",
    "version": 3
   },
   "file_extension": ".py",
   "mimetype": "text/x-python",
   "name": "python",
   "nbconvert_exporter": "python",
   "pygments_lexer": "ipython3",
   "version": "3.8.10"
  },
  "orig_nbformat": 4
 },
 "nbformat": 4,
 "nbformat_minor": 2
}
