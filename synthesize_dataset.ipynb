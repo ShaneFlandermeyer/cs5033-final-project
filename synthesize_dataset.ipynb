{
 "cells": [
  {
   "cell_type": "code",
   "execution_count": 34,
   "metadata": {},
   "outputs": [],
   "source": [
    "import numpy as np\n",
    "import matplotlib.pyplot as plt\n",
    "from pathlib import Path\n",
    "from gnuradio import channels, gr, blocks, analog, digital\n",
    "import datetime as dt\n",
    "import random\n",
    "import sigmf\n",
    "from sigmf import SigMFFile, sigmffile, utils\n",
    "from signals.comms import *\n",
    "from signals.radar import *\n",
    "\n",
    "from tqdm.notebook import tqdm\n",
    "import time"
   ]
  },
  {
   "cell_type": "markdown",
   "metadata": {},
   "source": [
    "## Global Variables"
   ]
  },
  {
   "cell_type": "code",
   "execution_count": 35,
   "metadata": {},
   "outputs": [],
   "source": [
    "# Modulation parameters\n",
    "sampRate = 20e6\n",
    "# Metadata setup\n",
    "dataDir = 'data/'\n",
    "filename = 'dataset'\n",
    "# Create directory if it doesn't exist\n",
    "Path(dataDir).mkdir(parents=True, exist_ok=True)\n",
    "# Open and close the data file to create it if it doesn't exist. This is\n",
    "# necessary for the SigMFFile object below\n",
    "datafile = open(dataDir+filename+'.sigmf-data', 'w+')\n",
    "datafile.close()\n",
    "meta = SigMFFile(\n",
    "    data_file=dataDir+filename+'.sigmf-data',\n",
    "    global_info={\n",
    "        # TODO: Determine the data type key programatically from the data array\n",
    "        SigMFFile.DATATYPE_KEY: 'cf32_le',\n",
    "        SigMFFile.SAMPLE_RATE_KEY: sampRate,\n",
    "        SigMFFile.AUTHOR_KEY: 'Shane Flandermeyer, shane.flandermeyer@ou.edu',\n",
    "        SigMFFile.DESCRIPTION_KEY: 'Synthetic RF dataset for machine learning',\n",
    "        SigMFFile.VERSION_KEY: sigmf.__version__,\n",
    "    }\n",
    ")\n",
    "# Channel parameters\n",
    "snr = -20\n",
    "noise_voltage = 10**(-snr/20)\n",
    "minBandwidth = 1e6\n",
    "maxBandwidth = 100e6\n",
    "minPulsewidth = 1e-6\n",
    "maxPulsewidth = 100e-6\n",
    "fD = 1\n",
    "delays = [0.0, 0.9, 1.7]\n",
    "mags = [1, 0.8, 0.3]\n",
    "ntaps = 8\n",
    "useChannelModel = True"
   ]
  },
  {
   "cell_type": "markdown",
   "metadata": {},
   "source": [
    "## Main Simulation Loop"
   ]
  },
  {
   "cell_type": "code",
   "execution_count": 36,
   "metadata": {},
   "outputs": [
    {
     "data": {
      "application/vnd.jupyter.widget-view+json": {
       "model_id": "22f4236e8b7a42a591914c007bd1fbd6",
       "version_major": 2,
       "version_minor": 0
      },
      "text/plain": [
       "  0%|          | 0/1000 [00:00<?, ?it/s]"
      ]
     },
     "metadata": {},
     "output_type": "display_data"
    },
    {
     "data": {
      "application/vnd.jupyter.widget-view+json": {
       "model_id": "739d38fbd5d94b59994c23c7cade909d",
       "version_major": 2,
       "version_minor": 0
      },
      "text/plain": [
       "  0%|          | 0/1000 [00:00<?, ?it/s]"
      ]
     },
     "metadata": {},
     "output_type": "display_data"
    }
   ],
   "source": [
    "# Number of vectors per modulation class\n",
    "nVecClass = 1000\n",
    "# Number of samples per class vector\n",
    "nSampsVec = 128\n",
    "# Loop through all the waveform types defined in this list\n",
    "np.random.seed(0)\n",
    "waveforms = [LinearFMWaveform, SquareWaveform]\n",
    "nClasses = len(waveforms)\n",
    "nSampsTotal = nSampsVec*nVecClass*nClasses\n",
    "data = np.zeros((nSampsTotal,), dtype=np.complex64)\n",
    "nSampsProduced = 0\n",
    "for wave in waveforms:\n",
    "    # Flowgraph\n",
    "    tb = gr.top_block()\n",
    "    # Channel model\n",
    "    channel = channels.dynamic_channel_model(\n",
    "        sampRate, 0.01, 50, .01, 0.5e3, 8, fD, True, 4, delays, mags, ntaps, noise_voltage, 0x1337)\n",
    "    # Vector sink\n",
    "    sink = blocks.vector_sink_c()\n",
    "    # Waveform parameters\n",
    "    bandwidth = minBandwidth + np.random.rand()*(maxBandwidth-minBandwidth)\n",
    "    pulsewidth = minPulsewidth + np.random.rand()*(maxPulsewidth-minPulsewidth)\n",
    "    # Create signal object and associated transmitter\n",
    "    sig = wave(bandwidth=bandwidth,\n",
    "               pulsewidth=pulsewidth, sampRate=sampRate)\n",
    "    tx = sig.transmitter(repeat=False)\n",
    "    # Generate nVecClass vectors of nSampsVec samples each\n",
    "    for iVec in tqdm(range(nVecClass)):\n",
    "        # Assemble the flowgraph\n",
    "        if useChannelModel:\n",
    "            tb.connect(tx, channel, sink)\n",
    "        else:\n",
    "            tb.connect(tx, sink)\n",
    "        # Run the simulation\n",
    "        tb.run()\n",
    "        # Disconnect the flowgraph\n",
    "        if useChannelModel:\n",
    "            tb.disconnect(tx, channel, sink)\n",
    "        else:\n",
    "            tb.disconnect(tx, sink)\n",
    "        startIdx = np.random.randint(0, len(sink.data())-nSampsVec)\n",
    "        result = np.array(\n",
    "            sink.data()[startIdx:startIdx+nSampsVec], dtype=np.complex64)\n",
    "        # Save off the data and corresponding metadata\n",
    "        # TODO: This gets slow when we try to generate lots of data\n",
    "        detail = sig.detail\n",
    "        metaDict = {\n",
    "            SigMFFile.LABEL_KEY: sig.label,\n",
    "            SigMFFile.DATETIME_KEY: dt.datetime.utcnow().isoformat()+'Z'}\n",
    "        metaDict[sig.DETAIL_KEY] = detail.dict()\n",
    "        meta.add_annotation(nSampsProduced, len(result), metadata=metaDict)\n",
    "        # Normalize the energy to stay consistent with different modulations\n",
    "        energy = np.sum(np.abs(result)**2)\n",
    "        data[nSampsProduced:nSampsProduced+nSampsVec] = result/np.sqrt(energy)\n",
    "        nSampsProduced += nSampsVec\n",
    "        # TODO: Update the waveform for the next iteration\n",
    "        # bandwidth = minBandwidth + np.random.rand()*(maxBandwidth-minBandwidth)\n",
    "        # pulsewidth = minPulsewidth + np.random.rand()*(maxPulsewidth-minPulsewidth)\n",
    "        # # Create signal object and associated transmitter\n",
    "        # sig = wave(bandwidth=bandwidth,\n",
    "        #         pulsewidth=pulsewidth, sampRate=sampRate)\n",
    "        # tx = sig.transmitter(repeat=False)\n",
    "# Check for mistakes and write to file\n",
    "data.tofile(dataDir+filename+'.sigmf-data')\n",
    "assert meta.validate()\n",
    "# Write metadata to file\n",
    "meta.tofile(dataDir+filename)\n"
   ]
  },
  {
   "cell_type": "code",
   "execution_count": 37,
   "metadata": {},
   "outputs": [
    {
     "data": {
      "text/plain": [
       "[<matplotlib.lines.Line2D at 0x7fc2a6686970>]"
      ]
     },
     "execution_count": 37,
     "metadata": {},
     "output_type": "execute_result"
    },
    {
     "data": {
      "image/png": "[encoded data removed]",
      "text/plain": [
       "<Figure size 432x288 with 1 Axes>"
      ]
     },
     "metadata": {
      "needs_background": "light"
     },
     "output_type": "display_data"
    }
   ],
   "source": [
    "plt.plot(np.real(data))"
   ]
  }
 ],
 "metadata": {
  "interpreter": {
   "hash": "ec52523b6d74cfd412f67120840020d556033b420c24f9d3f9d6b6b378980bda"
  },
  "kernelspec": {
   "display_name": "Python 3.8.10 64-bit ('cs5033-final-project-8TZ9n3iP': virtualenv)",
   "name": "python3"
  },
  "language_info": {
   "codemirror_mode": {
    "name": "ipython",
    "version": 3
   },
   "file_extension": ".py",
   "mimetype": "text/x-python",
   "name": "python",
   "nbconvert_exporter": "python",
   "pygments_lexer": "ipython3",
   "version": "3.8.10"
  },
  "orig_nbformat": 4
 },
 "nbformat": 4,
 "nbformat_minor": 2
}
